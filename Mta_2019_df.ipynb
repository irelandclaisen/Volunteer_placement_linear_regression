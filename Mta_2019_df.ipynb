{
 "cells": [
  {
   "cell_type": "code",
   "execution_count": 2,
   "metadata": {},
   "outputs": [],
   "source": [
    "\n",
    "import pandas as pd\n",
    "import numpy as np\n",
    "import matplotlib.pyplot as plt\n",
    "\n",
    "%matplotlib inline"
   ]
  },
  {
   "cell_type": "code",
   "execution_count": 3,
   "metadata": {},
   "outputs": [],
   "source": [
    "df_1 = pd.read_csv('http://web.mta.info/developers/data/nyct/turnstile/turnstile_190323.txt')\n",
    "df_2 = pd.read_csv('http://web.mta.info/developers/data/nyct/turnstile/turnstile_190330.txt')\n",
    "df_3 = pd.read_csv('http://web.mta.info/developers/data/nyct/turnstile/turnstile_190406.txt')\n",
    "df_4 = pd.read_csv('http://web.mta.info/developers/data/nyct/turnstile/turnstile_190413.txt')\n",
    "df_5 = pd.read_csv('http://web.mta.info/developers/data/nyct/turnstile/turnstile_190420.txt')\n",
    "df_6 = pd.read_csv('http://web.mta.info/developers/data/nyct/turnstile/turnstile_190427.txt')\n",
    "df_7 = pd.read_csv('http://web.mta.info/developers/data/nyct/turnstile/turnstile_190504.txt')\n",
    "df_8 = pd.read_csv('http://web.mta.info/developers/data/nyct/turnstile/turnstile_190511.txt')\n",
    "df_9 = pd.read_csv('http://web.mta.info/developers/data/nyct/turnstile/turnstile_190518.txt')\n",
    "df_10 = pd.read_csv('http://web.mta.info/developers/data/nyct/turnstile/turnstile_190525.txt')\n",
    "df_11 = pd.read_csv('http://web.mta.info/developers/data/nyct/turnstile/turnstile_190601.txt')\n",
    "df_12 = pd.read_csv('http://web.mta.info/developers/data/nyct/turnstile/turnstile_200606.txt')\n",
    "df_13 = pd.read_csv('http://web.mta.info/developers/data/nyct/turnstile/turnstile_200613.txt')\n",
    "df_14 = pd.read_csv('http://web.mta.info/developers/data/nyct/turnstile/turnstile_200620.txt')\n"
   ]
  },
  {
   "cell_type": "code",
   "execution_count": 4,
   "metadata": {},
   "outputs": [],
   "source": [
    "Mta_2019_df_input_1 = pd.concat([df_1, df_2, df_3, df_4, df_5, df_6, df_7, df_8, df_9, df_10])"
   ]
  },
  {
   "cell_type": "code",
   "execution_count": 5,
   "metadata": {},
   "outputs": [],
   "source": [
    "Mta_2019_df = pd.concat([Mta_2019_df_input_1, df_10, df_11, df_12, df_13, df_14])"
   ]
  },
  {
   "cell_type": "code",
   "execution_count": 6,
   "metadata": {},
   "outputs": [],
   "source": [
    "import sys \n",
    "import pickle\n",
    "import random"
   ]
  },
  {
   "cell_type": "code",
   "execution_count": 7,
   "metadata": {},
   "outputs": [],
   "source": [
    "with open('Mta_2019_df.pickle', 'wb') as to_write:\n",
    "    pickle.dump(Mta_2019_df, to_write)"
   ]
  },
  {
   "cell_type": "code",
   "execution_count": null,
   "metadata": {},
   "outputs": [],
   "source": []
  }
 ],
 "metadata": {
  "kernelspec": {
   "display_name": "Python 3",
   "language": "python",
   "name": "python3"
  },
  "language_info": {
   "codemirror_mode": {
    "name": "ipython",
    "version": 3
   },
   "file_extension": ".py",
   "mimetype": "text/x-python",
   "name": "python",
   "nbconvert_exporter": "python",
   "pygments_lexer": "ipython3",
   "version": "3.8.5"
  }
 },
 "nbformat": 4,
 "nbformat_minor": 4
}
