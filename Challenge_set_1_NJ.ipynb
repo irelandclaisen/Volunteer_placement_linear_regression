{
 "cells": [
  {
   "cell_type": "code",
   "execution_count": null,
   "metadata": {},
   "outputs": [],
   "source": []
  },
  {
   "cell_type": "markdown",
   "metadata": {},
   "source": [
    "# Challenge 1"
   ]
  },
  {
   "cell_type": "code",
   "execution_count": 1,
   "metadata": {
    "ExecuteTime": {
     "end_time": "2020-09-27T04:37:48.360105Z",
     "start_time": "2020-09-27T04:37:47.113286Z"
    }
   },
   "outputs": [],
   "source": [
    "import pandas as pd\n",
    "import numpy as np\n",
    "import matplotlib.pyplot as plt\n",
    "import seaborn as sns\n",
    "\n",
    "%matplotlib inline"
   ]
  },
  {
   "cell_type": "markdown",
   "metadata": {},
   "source": [
    "## Loading data"
   ]
  },
  {
   "cell_type": "code",
   "execution_count": 186,
   "metadata": {
    "ExecuteTime": {
     "end_time": "2020-09-27T05:16:33.083445Z",
     "start_time": "2020-09-27T05:16:32.292993Z"
    },
    "scrolled": false
   },
   "outputs": [
    {
     "data": {
      "text/html": [
       "<div>\n",
       "<style scoped>\n",
       "    .dataframe tbody tr th:only-of-type {\n",
       "        vertical-align: middle;\n",
       "    }\n",
       "\n",
       "    .dataframe tbody tr th {\n",
       "        vertical-align: top;\n",
       "    }\n",
       "\n",
       "    .dataframe thead th {\n",
       "        text-align: right;\n",
       "    }\n",
       "</style>\n",
       "<table border=\"1\" class=\"dataframe\">\n",
       "  <thead>\n",
       "    <tr style=\"text-align: right;\">\n",
       "      <th></th>\n",
       "      <th>C/A</th>\n",
       "      <th>UNIT</th>\n",
       "      <th>SCP</th>\n",
       "      <th>STATION</th>\n",
       "      <th>LINENAME</th>\n",
       "      <th>DIVISION</th>\n",
       "      <th>DATE</th>\n",
       "      <th>TIME</th>\n",
       "      <th>DESC</th>\n",
       "      <th>ENTRIES</th>\n",
       "      <th>EXITS</th>\n",
       "    </tr>\n",
       "  </thead>\n",
       "  <tbody>\n",
       "    <tr>\n",
       "      <th>0</th>\n",
       "      <td>A002</td>\n",
       "      <td>R051</td>\n",
       "      <td>02-00-00</td>\n",
       "      <td>59 ST</td>\n",
       "      <td>NQR456W</td>\n",
       "      <td>BMT</td>\n",
       "      <td>03/16/2019</td>\n",
       "      <td>00:00:00</td>\n",
       "      <td>REGULAR</td>\n",
       "      <td>6980704</td>\n",
       "      <td>2367517</td>\n",
       "    </tr>\n",
       "    <tr>\n",
       "      <th>1</th>\n",
       "      <td>A002</td>\n",
       "      <td>R051</td>\n",
       "      <td>02-00-00</td>\n",
       "      <td>59 ST</td>\n",
       "      <td>NQR456W</td>\n",
       "      <td>BMT</td>\n",
       "      <td>03/16/2019</td>\n",
       "      <td>04:00:00</td>\n",
       "      <td>RECOVR AUD</td>\n",
       "      <td>6980727</td>\n",
       "      <td>2367519</td>\n",
       "    </tr>\n",
       "    <tr>\n",
       "      <th>2</th>\n",
       "      <td>A002</td>\n",
       "      <td>R051</td>\n",
       "      <td>02-00-00</td>\n",
       "      <td>59 ST</td>\n",
       "      <td>NQR456W</td>\n",
       "      <td>BMT</td>\n",
       "      <td>03/16/2019</td>\n",
       "      <td>08:00:00</td>\n",
       "      <td>RECOVR AUD</td>\n",
       "      <td>6980747</td>\n",
       "      <td>2367546</td>\n",
       "    </tr>\n",
       "    <tr>\n",
       "      <th>3</th>\n",
       "      <td>A002</td>\n",
       "      <td>R051</td>\n",
       "      <td>02-00-00</td>\n",
       "      <td>59 ST</td>\n",
       "      <td>NQR456W</td>\n",
       "      <td>BMT</td>\n",
       "      <td>03/16/2019</td>\n",
       "      <td>12:00:00</td>\n",
       "      <td>REGULAR</td>\n",
       "      <td>6980855</td>\n",
       "      <td>2367610</td>\n",
       "    </tr>\n",
       "    <tr>\n",
       "      <th>4</th>\n",
       "      <td>A002</td>\n",
       "      <td>R051</td>\n",
       "      <td>02-00-00</td>\n",
       "      <td>59 ST</td>\n",
       "      <td>NQR456W</td>\n",
       "      <td>BMT</td>\n",
       "      <td>03/16/2019</td>\n",
       "      <td>16:00:00</td>\n",
       "      <td>REGULAR</td>\n",
       "      <td>6981109</td>\n",
       "      <td>2367667</td>\n",
       "    </tr>\n",
       "  </tbody>\n",
       "</table>\n",
       "</div>"
      ],
      "text/plain": [
       "    C/A  UNIT       SCP STATION LINENAME DIVISION        DATE      TIME  \\\n",
       "0  A002  R051  02-00-00   59 ST  NQR456W      BMT  03/16/2019  00:00:00   \n",
       "1  A002  R051  02-00-00   59 ST  NQR456W      BMT  03/16/2019  04:00:00   \n",
       "2  A002  R051  02-00-00   59 ST  NQR456W      BMT  03/16/2019  08:00:00   \n",
       "3  A002  R051  02-00-00   59 ST  NQR456W      BMT  03/16/2019  12:00:00   \n",
       "4  A002  R051  02-00-00   59 ST  NQR456W      BMT  03/16/2019  16:00:00   \n",
       "\n",
       "         DESC  ENTRIES  \\\n",
       "0     REGULAR  6980704   \n",
       "1  RECOVR AUD  6980727   \n",
       "2  RECOVR AUD  6980747   \n",
       "3     REGULAR  6980855   \n",
       "4     REGULAR  6981109   \n",
       "\n",
       "   EXITS                                                                 \n",
       "0                                            2367517                     \n",
       "1                                            2367519                     \n",
       "2                                            2367546                     \n",
       "3                                            2367610                     \n",
       "4                                            2367667                     "
      ]
     },
     "execution_count": 186,
     "metadata": {},
     "output_type": "execute_result"
    }
   ],
   "source": [
    "file_path = 'Mta_2019_df.pickle'\n",
    "\n",
    "mta_df = pd.read_pickle(file_path)\n",
    "\n",
    "mta_df.head()"
   ]
  },
  {
   "cell_type": "markdown",
   "metadata": {},
   "source": [
    "## Stripping spaces from column names"
   ]
  },
  {
   "cell_type": "code",
   "execution_count": 187,
   "metadata": {
    "ExecuteTime": {
     "end_time": "2020-09-27T05:16:33.886904Z",
     "start_time": "2020-09-27T05:16:33.883868Z"
    }
   },
   "outputs": [],
   "source": [
    "mta_df.columns = [column.strip() for column in mta_df.columns]"
   ]
  },
  {
   "cell_type": "markdown",
   "metadata": {},
   "source": [
    "## Dividing up all stations by line (result is that station names are station-line)"
   ]
  },
  {
   "cell_type": "code",
   "execution_count": 188,
   "metadata": {
    "ExecuteTime": {
     "end_time": "2020-09-27T05:16:35.668080Z",
     "start_time": "2020-09-27T05:16:34.859984Z"
    }
   },
   "outputs": [
    {
     "data": {
      "text/html": [
       "<div>\n",
       "<style scoped>\n",
       "    .dataframe tbody tr th:only-of-type {\n",
       "        vertical-align: middle;\n",
       "    }\n",
       "\n",
       "    .dataframe tbody tr th {\n",
       "        vertical-align: top;\n",
       "    }\n",
       "\n",
       "    .dataframe thead th {\n",
       "        text-align: right;\n",
       "    }\n",
       "</style>\n",
       "<table border=\"1\" class=\"dataframe\">\n",
       "  <thead>\n",
       "    <tr style=\"text-align: right;\">\n",
       "      <th></th>\n",
       "      <th>C/A</th>\n",
       "      <th>UNIT</th>\n",
       "      <th>SCP</th>\n",
       "      <th>STATION</th>\n",
       "      <th>LINENAME</th>\n",
       "      <th>DIVISION</th>\n",
       "      <th>DATE</th>\n",
       "      <th>TIME</th>\n",
       "      <th>DESC</th>\n",
       "      <th>ENTRIES</th>\n",
       "      <th>EXITS</th>\n",
       "    </tr>\n",
       "  </thead>\n",
       "  <tbody>\n",
       "    <tr>\n",
       "      <th>0</th>\n",
       "      <td>A002</td>\n",
       "      <td>R051</td>\n",
       "      <td>02-00-00</td>\n",
       "      <td>59 ST NQR456W</td>\n",
       "      <td>NQR456W</td>\n",
       "      <td>BMT</td>\n",
       "      <td>03/16/2019</td>\n",
       "      <td>00:00:00</td>\n",
       "      <td>REGULAR</td>\n",
       "      <td>6980704</td>\n",
       "      <td>2367517</td>\n",
       "    </tr>\n",
       "    <tr>\n",
       "      <th>1</th>\n",
       "      <td>A002</td>\n",
       "      <td>R051</td>\n",
       "      <td>02-00-00</td>\n",
       "      <td>59 ST NQR456W</td>\n",
       "      <td>NQR456W</td>\n",
       "      <td>BMT</td>\n",
       "      <td>03/16/2019</td>\n",
       "      <td>04:00:00</td>\n",
       "      <td>RECOVR AUD</td>\n",
       "      <td>6980727</td>\n",
       "      <td>2367519</td>\n",
       "    </tr>\n",
       "    <tr>\n",
       "      <th>2</th>\n",
       "      <td>A002</td>\n",
       "      <td>R051</td>\n",
       "      <td>02-00-00</td>\n",
       "      <td>59 ST NQR456W</td>\n",
       "      <td>NQR456W</td>\n",
       "      <td>BMT</td>\n",
       "      <td>03/16/2019</td>\n",
       "      <td>08:00:00</td>\n",
       "      <td>RECOVR AUD</td>\n",
       "      <td>6980747</td>\n",
       "      <td>2367546</td>\n",
       "    </tr>\n",
       "    <tr>\n",
       "      <th>3</th>\n",
       "      <td>A002</td>\n",
       "      <td>R051</td>\n",
       "      <td>02-00-00</td>\n",
       "      <td>59 ST NQR456W</td>\n",
       "      <td>NQR456W</td>\n",
       "      <td>BMT</td>\n",
       "      <td>03/16/2019</td>\n",
       "      <td>12:00:00</td>\n",
       "      <td>REGULAR</td>\n",
       "      <td>6980855</td>\n",
       "      <td>2367610</td>\n",
       "    </tr>\n",
       "    <tr>\n",
       "      <th>4</th>\n",
       "      <td>A002</td>\n",
       "      <td>R051</td>\n",
       "      <td>02-00-00</td>\n",
       "      <td>59 ST NQR456W</td>\n",
       "      <td>NQR456W</td>\n",
       "      <td>BMT</td>\n",
       "      <td>03/16/2019</td>\n",
       "      <td>16:00:00</td>\n",
       "      <td>REGULAR</td>\n",
       "      <td>6981109</td>\n",
       "      <td>2367667</td>\n",
       "    </tr>\n",
       "  </tbody>\n",
       "</table>\n",
       "</div>"
      ],
      "text/plain": [
       "    C/A  UNIT       SCP        STATION LINENAME DIVISION        DATE  \\\n",
       "0  A002  R051  02-00-00  59 ST NQR456W  NQR456W      BMT  03/16/2019   \n",
       "1  A002  R051  02-00-00  59 ST NQR456W  NQR456W      BMT  03/16/2019   \n",
       "2  A002  R051  02-00-00  59 ST NQR456W  NQR456W      BMT  03/16/2019   \n",
       "3  A002  R051  02-00-00  59 ST NQR456W  NQR456W      BMT  03/16/2019   \n",
       "4  A002  R051  02-00-00  59 ST NQR456W  NQR456W      BMT  03/16/2019   \n",
       "\n",
       "       TIME        DESC  ENTRIES    EXITS  \n",
       "0  00:00:00     REGULAR  6980704  2367517  \n",
       "1  04:00:00  RECOVR AUD  6980727  2367519  \n",
       "2  08:00:00  RECOVR AUD  6980747  2367546  \n",
       "3  12:00:00     REGULAR  6980855  2367610  \n",
       "4  16:00:00     REGULAR  6981109  2367667  "
      ]
     },
     "execution_count": 188,
     "metadata": {},
     "output_type": "execute_result"
    }
   ],
   "source": [
    "mta_df['STATION'] = mta_df['STATION'] + ' ' + mta_df['LINENAME']\n",
    "\n",
    "# mta_df['STATION'] = [name.strip() for name in mta_df['STATION']]\n",
    "\n",
    "mta_df.head()"
   ]
  },
  {
   "cell_type": "markdown",
   "metadata": {},
   "source": [
    "## Dividing up 23rd street station"
   ]
  },
  {
   "cell_type": "code",
   "execution_count": 189,
   "metadata": {
    "ExecuteTime": {
     "end_time": "2020-09-27T05:16:37.014505Z",
     "start_time": "2020-09-27T05:16:37.011970Z"
    }
   },
   "outputs": [],
   "source": [
    "# df_23_ST = mta_df[mta_df['STATION'] == '23 ST']\n",
    "\n",
    "# # adding line names to 23rd st station\n",
    "\n",
    "# df_23_ST['STATION'] = df_23_ST['STATION'] + ' ' + df_23_ST['LINENAME']\n",
    "\n",
    "# # All the other stations\n",
    "\n",
    "# filt_NOT_23ST = mta_df.loc[mta_df['STATION'] != '23 ST']\n",
    "# filt_NOT_23ST\n",
    "\n",
    "# # Putting the two back together\n",
    "\n",
    "# mta_df = pd.concat([filt_NOT_23ST, df_23_ST])\n",
    "# mta_df.head()"
   ]
  },
  {
   "cell_type": "markdown",
   "metadata": {},
   "source": [
    "# Challenge 2"
   ]
  },
  {
   "cell_type": "markdown",
   "metadata": {},
   "source": [
    "## Adding date_time column"
   ]
  },
  {
   "cell_type": "code",
   "execution_count": 190,
   "metadata": {
    "ExecuteTime": {
     "end_time": "2020-09-27T05:16:40.015239Z",
     "start_time": "2020-09-27T05:16:38.380247Z"
    }
   },
   "outputs": [
    {
     "data": {
      "text/html": [
       "<div>\n",
       "<style scoped>\n",
       "    .dataframe tbody tr th:only-of-type {\n",
       "        vertical-align: middle;\n",
       "    }\n",
       "\n",
       "    .dataframe tbody tr th {\n",
       "        vertical-align: top;\n",
       "    }\n",
       "\n",
       "    .dataframe thead th {\n",
       "        text-align: right;\n",
       "    }\n",
       "</style>\n",
       "<table border=\"1\" class=\"dataframe\">\n",
       "  <thead>\n",
       "    <tr style=\"text-align: right;\">\n",
       "      <th></th>\n",
       "      <th>C/A</th>\n",
       "      <th>UNIT</th>\n",
       "      <th>SCP</th>\n",
       "      <th>STATION</th>\n",
       "      <th>LINENAME</th>\n",
       "      <th>DIVISION</th>\n",
       "      <th>DATE</th>\n",
       "      <th>TIME</th>\n",
       "      <th>DESC</th>\n",
       "      <th>ENTRIES</th>\n",
       "      <th>EXITS</th>\n",
       "      <th>DATETIME</th>\n",
       "    </tr>\n",
       "  </thead>\n",
       "  <tbody>\n",
       "    <tr>\n",
       "      <th>0</th>\n",
       "      <td>A002</td>\n",
       "      <td>R051</td>\n",
       "      <td>02-00-00</td>\n",
       "      <td>59 ST NQR456W</td>\n",
       "      <td>NQR456W</td>\n",
       "      <td>BMT</td>\n",
       "      <td>03/16/2019</td>\n",
       "      <td>00:00:00</td>\n",
       "      <td>REGULAR</td>\n",
       "      <td>6980704</td>\n",
       "      <td>2367517</td>\n",
       "      <td>2019-03-16 00:00:00</td>\n",
       "    </tr>\n",
       "    <tr>\n",
       "      <th>1</th>\n",
       "      <td>A002</td>\n",
       "      <td>R051</td>\n",
       "      <td>02-00-00</td>\n",
       "      <td>59 ST NQR456W</td>\n",
       "      <td>NQR456W</td>\n",
       "      <td>BMT</td>\n",
       "      <td>03/16/2019</td>\n",
       "      <td>04:00:00</td>\n",
       "      <td>RECOVR AUD</td>\n",
       "      <td>6980727</td>\n",
       "      <td>2367519</td>\n",
       "      <td>2019-03-16 04:00:00</td>\n",
       "    </tr>\n",
       "    <tr>\n",
       "      <th>2</th>\n",
       "      <td>A002</td>\n",
       "      <td>R051</td>\n",
       "      <td>02-00-00</td>\n",
       "      <td>59 ST NQR456W</td>\n",
       "      <td>NQR456W</td>\n",
       "      <td>BMT</td>\n",
       "      <td>03/16/2019</td>\n",
       "      <td>08:00:00</td>\n",
       "      <td>RECOVR AUD</td>\n",
       "      <td>6980747</td>\n",
       "      <td>2367546</td>\n",
       "      <td>2019-03-16 08:00:00</td>\n",
       "    </tr>\n",
       "    <tr>\n",
       "      <th>3</th>\n",
       "      <td>A002</td>\n",
       "      <td>R051</td>\n",
       "      <td>02-00-00</td>\n",
       "      <td>59 ST NQR456W</td>\n",
       "      <td>NQR456W</td>\n",
       "      <td>BMT</td>\n",
       "      <td>03/16/2019</td>\n",
       "      <td>12:00:00</td>\n",
       "      <td>REGULAR</td>\n",
       "      <td>6980855</td>\n",
       "      <td>2367610</td>\n",
       "      <td>2019-03-16 12:00:00</td>\n",
       "    </tr>\n",
       "    <tr>\n",
       "      <th>4</th>\n",
       "      <td>A002</td>\n",
       "      <td>R051</td>\n",
       "      <td>02-00-00</td>\n",
       "      <td>59 ST NQR456W</td>\n",
       "      <td>NQR456W</td>\n",
       "      <td>BMT</td>\n",
       "      <td>03/16/2019</td>\n",
       "      <td>16:00:00</td>\n",
       "      <td>REGULAR</td>\n",
       "      <td>6981109</td>\n",
       "      <td>2367667</td>\n",
       "      <td>2019-03-16 16:00:00</td>\n",
       "    </tr>\n",
       "  </tbody>\n",
       "</table>\n",
       "</div>"
      ],
      "text/plain": [
       "    C/A  UNIT       SCP        STATION LINENAME DIVISION        DATE  \\\n",
       "0  A002  R051  02-00-00  59 ST NQR456W  NQR456W      BMT  03/16/2019   \n",
       "1  A002  R051  02-00-00  59 ST NQR456W  NQR456W      BMT  03/16/2019   \n",
       "2  A002  R051  02-00-00  59 ST NQR456W  NQR456W      BMT  03/16/2019   \n",
       "3  A002  R051  02-00-00  59 ST NQR456W  NQR456W      BMT  03/16/2019   \n",
       "4  A002  R051  02-00-00  59 ST NQR456W  NQR456W      BMT  03/16/2019   \n",
       "\n",
       "       TIME        DESC  ENTRIES    EXITS            DATETIME  \n",
       "0  00:00:00     REGULAR  6980704  2367517 2019-03-16 00:00:00  \n",
       "1  04:00:00  RECOVR AUD  6980727  2367519 2019-03-16 04:00:00  \n",
       "2  08:00:00  RECOVR AUD  6980747  2367546 2019-03-16 08:00:00  \n",
       "3  12:00:00     REGULAR  6980855  2367610 2019-03-16 12:00:00  \n",
       "4  16:00:00     REGULAR  6981109  2367667 2019-03-16 16:00:00  "
      ]
     },
     "execution_count": 190,
     "metadata": {},
     "output_type": "execute_result"
    }
   ],
   "source": [
    "# mta_df[\"DATETIME\"] = pd.to_datetime(mta_df['DATE'] + ' ' + mta_df['TIME'])\n",
    "\n",
    "mta_df[\"DATETIME\"] = pd.to_datetime(mta_df[\"DATE\"] + \" \" + mta_df[\"TIME\"], format=\"%m/%d/%Y %H:%M:%S\")\n",
    "\n",
    "mta_df.head()"
   ]
  },
  {
   "cell_type": "markdown",
   "metadata": {},
   "source": [
    "# Challenge 3"
   ]
  },
  {
   "cell_type": "markdown",
   "metadata": {},
   "source": [
    "## Adding turnstile column"
   ]
  },
  {
   "cell_type": "code",
   "execution_count": 191,
   "metadata": {
    "ExecuteTime": {
     "end_time": "2020-09-27T05:16:44.407533Z",
     "start_time": "2020-09-27T05:16:42.428355Z"
    },
    "scrolled": true
   },
   "outputs": [
    {
     "data": {
      "text/html": [
       "<div>\n",
       "<style scoped>\n",
       "    .dataframe tbody tr th:only-of-type {\n",
       "        vertical-align: middle;\n",
       "    }\n",
       "\n",
       "    .dataframe tbody tr th {\n",
       "        vertical-align: top;\n",
       "    }\n",
       "\n",
       "    .dataframe thead th {\n",
       "        text-align: right;\n",
       "    }\n",
       "</style>\n",
       "<table border=\"1\" class=\"dataframe\">\n",
       "  <thead>\n",
       "    <tr style=\"text-align: right;\">\n",
       "      <th></th>\n",
       "      <th>C/A</th>\n",
       "      <th>UNIT</th>\n",
       "      <th>SCP</th>\n",
       "      <th>STATION</th>\n",
       "      <th>LINENAME</th>\n",
       "      <th>DIVISION</th>\n",
       "      <th>DATE</th>\n",
       "      <th>TIME</th>\n",
       "      <th>DESC</th>\n",
       "      <th>ENTRIES</th>\n",
       "      <th>EXITS</th>\n",
       "      <th>DATETIME</th>\n",
       "      <th>TURNSTILE</th>\n",
       "    </tr>\n",
       "  </thead>\n",
       "  <tbody>\n",
       "    <tr>\n",
       "      <th>0</th>\n",
       "      <td>A002</td>\n",
       "      <td>R051</td>\n",
       "      <td>02-00-00</td>\n",
       "      <td>59 ST NQR456W</td>\n",
       "      <td>NQR456W</td>\n",
       "      <td>BMT</td>\n",
       "      <td>03/16/2019</td>\n",
       "      <td>00:00:00</td>\n",
       "      <td>REGULAR</td>\n",
       "      <td>6980704</td>\n",
       "      <td>2367517</td>\n",
       "      <td>2019-03-16 00:00:00</td>\n",
       "      <td>A002 R051 02-00-00 59 ST NQR456W</td>\n",
       "    </tr>\n",
       "    <tr>\n",
       "      <th>1</th>\n",
       "      <td>A002</td>\n",
       "      <td>R051</td>\n",
       "      <td>02-00-00</td>\n",
       "      <td>59 ST NQR456W</td>\n",
       "      <td>NQR456W</td>\n",
       "      <td>BMT</td>\n",
       "      <td>03/16/2019</td>\n",
       "      <td>04:00:00</td>\n",
       "      <td>RECOVR AUD</td>\n",
       "      <td>6980727</td>\n",
       "      <td>2367519</td>\n",
       "      <td>2019-03-16 04:00:00</td>\n",
       "      <td>A002 R051 02-00-00 59 ST NQR456W</td>\n",
       "    </tr>\n",
       "    <tr>\n",
       "      <th>2</th>\n",
       "      <td>A002</td>\n",
       "      <td>R051</td>\n",
       "      <td>02-00-00</td>\n",
       "      <td>59 ST NQR456W</td>\n",
       "      <td>NQR456W</td>\n",
       "      <td>BMT</td>\n",
       "      <td>03/16/2019</td>\n",
       "      <td>08:00:00</td>\n",
       "      <td>RECOVR AUD</td>\n",
       "      <td>6980747</td>\n",
       "      <td>2367546</td>\n",
       "      <td>2019-03-16 08:00:00</td>\n",
       "      <td>A002 R051 02-00-00 59 ST NQR456W</td>\n",
       "    </tr>\n",
       "    <tr>\n",
       "      <th>3</th>\n",
       "      <td>A002</td>\n",
       "      <td>R051</td>\n",
       "      <td>02-00-00</td>\n",
       "      <td>59 ST NQR456W</td>\n",
       "      <td>NQR456W</td>\n",
       "      <td>BMT</td>\n",
       "      <td>03/16/2019</td>\n",
       "      <td>12:00:00</td>\n",
       "      <td>REGULAR</td>\n",
       "      <td>6980855</td>\n",
       "      <td>2367610</td>\n",
       "      <td>2019-03-16 12:00:00</td>\n",
       "      <td>A002 R051 02-00-00 59 ST NQR456W</td>\n",
       "    </tr>\n",
       "    <tr>\n",
       "      <th>4</th>\n",
       "      <td>A002</td>\n",
       "      <td>R051</td>\n",
       "      <td>02-00-00</td>\n",
       "      <td>59 ST NQR456W</td>\n",
       "      <td>NQR456W</td>\n",
       "      <td>BMT</td>\n",
       "      <td>03/16/2019</td>\n",
       "      <td>16:00:00</td>\n",
       "      <td>REGULAR</td>\n",
       "      <td>6981109</td>\n",
       "      <td>2367667</td>\n",
       "      <td>2019-03-16 16:00:00</td>\n",
       "      <td>A002 R051 02-00-00 59 ST NQR456W</td>\n",
       "    </tr>\n",
       "  </tbody>\n",
       "</table>\n",
       "</div>"
      ],
      "text/plain": [
       "    C/A  UNIT       SCP        STATION LINENAME DIVISION        DATE  \\\n",
       "0  A002  R051  02-00-00  59 ST NQR456W  NQR456W      BMT  03/16/2019   \n",
       "1  A002  R051  02-00-00  59 ST NQR456W  NQR456W      BMT  03/16/2019   \n",
       "2  A002  R051  02-00-00  59 ST NQR456W  NQR456W      BMT  03/16/2019   \n",
       "3  A002  R051  02-00-00  59 ST NQR456W  NQR456W      BMT  03/16/2019   \n",
       "4  A002  R051  02-00-00  59 ST NQR456W  NQR456W      BMT  03/16/2019   \n",
       "\n",
       "       TIME        DESC  ENTRIES    EXITS            DATETIME  \\\n",
       "0  00:00:00     REGULAR  6980704  2367517 2019-03-16 00:00:00   \n",
       "1  04:00:00  RECOVR AUD  6980727  2367519 2019-03-16 04:00:00   \n",
       "2  08:00:00  RECOVR AUD  6980747  2367546 2019-03-16 08:00:00   \n",
       "3  12:00:00     REGULAR  6980855  2367610 2019-03-16 12:00:00   \n",
       "4  16:00:00     REGULAR  6981109  2367667 2019-03-16 16:00:00   \n",
       "\n",
       "                          TURNSTILE  \n",
       "0  A002 R051 02-00-00 59 ST NQR456W  \n",
       "1  A002 R051 02-00-00 59 ST NQR456W  \n",
       "2  A002 R051 02-00-00 59 ST NQR456W  \n",
       "3  A002 R051 02-00-00 59 ST NQR456W  \n",
       "4  A002 R051 02-00-00 59 ST NQR456W  "
      ]
     },
     "execution_count": 191,
     "metadata": {},
     "output_type": "execute_result"
    }
   ],
   "source": [
    "# Adding turnstile column\n",
    "\n",
    "mta_df['TURNSTILE'] = mta_df['C/A'] + ' ' + mta_df['UNIT'] + ' ' + mta_df['SCP'] + ' ' + mta_df['STATION']\n",
    "\n",
    "mta_df.head()"
   ]
  },
  {
   "cell_type": "markdown",
   "metadata": {},
   "source": [
    "Ignoring the duplicate check step as it makes ENTRIES and EXIT columns all the same"
   ]
  },
  {
   "cell_type": "code",
   "execution_count": 192,
   "metadata": {
    "ExecuteTime": {
     "end_time": "2020-09-27T05:16:46.014473Z",
     "start_time": "2020-09-27T05:16:46.012032Z"
    }
   },
   "outputs": [],
   "source": [
    "# Checking that turnstile combos are really unique:\n",
    "\n",
    "# (mta_df\n",
    "#  .groupby(['TURNSTILE', 'DATETIME'])\n",
    "#  .ENTRIES.count()\n",
    "#  .reset_index()\n",
    "#  .sort_values(\"ENTRIES\", ascending=False)).head(5)"
   ]
  },
  {
   "cell_type": "code",
   "execution_count": 193,
   "metadata": {
    "ExecuteTime": {
     "end_time": "2020-09-27T05:16:51.999266Z",
     "start_time": "2020-09-27T05:16:51.997080Z"
    }
   },
   "outputs": [],
   "source": [
    "# Remove duplicates\n",
    "\n",
    "# mta_df.sort_values([\"C/A\", \"UNIT\", \"SCP\", \"STATION\", \"DATETIME\"], \n",
    "#                           inplace=True, ascending=False)\n",
    "\n",
    "# mta_df.drop_duplicates(subset=[\"C/A\", \"UNIT\", \"SCP\", \"STATION\", \"DATETIME\"], inplace=True)\n",
    "\n",
    "# mta_df.drop_duplicates(subset=[\"TURNSTILE\"], inplace=True)\n",
    "\n",
    "# mta_df.head(5)"
   ]
  },
  {
   "cell_type": "code",
   "execution_count": 194,
   "metadata": {
    "ExecuteTime": {
     "end_time": "2020-09-27T05:16:55.521554Z",
     "start_time": "2020-09-27T05:16:54.132386Z"
    }
   },
   "outputs": [
    {
     "data": {
      "text/html": [
       "<div>\n",
       "<style scoped>\n",
       "    .dataframe tbody tr th:only-of-type {\n",
       "        vertical-align: middle;\n",
       "    }\n",
       "\n",
       "    .dataframe tbody tr th {\n",
       "        vertical-align: top;\n",
       "    }\n",
       "\n",
       "    .dataframe thead th {\n",
       "        text-align: right;\n",
       "    }\n",
       "</style>\n",
       "<table border=\"1\" class=\"dataframe\">\n",
       "  <thead>\n",
       "    <tr style=\"text-align: right;\">\n",
       "      <th></th>\n",
       "      <th>TURNSTILE</th>\n",
       "      <th>DATETIME</th>\n",
       "      <th>ENTRIES</th>\n",
       "    </tr>\n",
       "  </thead>\n",
       "  <tbody>\n",
       "    <tr>\n",
       "      <th>1093003</th>\n",
       "      <td>N306 R017 00-00-01 LEXINGTON AV/53 EM6</td>\n",
       "      <td>2019-05-23 04:00:00</td>\n",
       "      <td>2</td>\n",
       "    </tr>\n",
       "    <tr>\n",
       "      <th>912822</th>\n",
       "      <td>N120A R153 01-05-01 UTICA AV AC</td>\n",
       "      <td>2019-05-19 13:00:00</td>\n",
       "      <td>2</td>\n",
       "    </tr>\n",
       "    <tr>\n",
       "      <th>1177826</th>\n",
       "      <td>N330 R202 00-00-02 63 DR-REGO PARK MR</td>\n",
       "      <td>2019-05-23 12:00:00</td>\n",
       "      <td>2</td>\n",
       "    </tr>\n",
       "    <tr>\n",
       "      <th>1177827</th>\n",
       "      <td>N330 R202 00-00-02 63 DR-REGO PARK MR</td>\n",
       "      <td>2019-05-23 16:00:00</td>\n",
       "      <td>2</td>\n",
       "    </tr>\n",
       "    <tr>\n",
       "      <th>1177828</th>\n",
       "      <td>N330 R202 00-00-02 63 DR-REGO PARK MR</td>\n",
       "      <td>2019-05-23 20:00:00</td>\n",
       "      <td>2</td>\n",
       "    </tr>\n",
       "  </tbody>\n",
       "</table>\n",
       "</div>"
      ],
      "text/plain": [
       "                                      TURNSTILE            DATETIME  ENTRIES\n",
       "1093003  N306 R017 00-00-01 LEXINGTON AV/53 EM6 2019-05-23 04:00:00        2\n",
       "912822          N120A R153 01-05-01 UTICA AV AC 2019-05-19 13:00:00        2\n",
       "1177826   N330 R202 00-00-02 63 DR-REGO PARK MR 2019-05-23 12:00:00        2\n",
       "1177827   N330 R202 00-00-02 63 DR-REGO PARK MR 2019-05-23 16:00:00        2\n",
       "1177828   N330 R202 00-00-02 63 DR-REGO PARK MR 2019-05-23 20:00:00        2"
      ]
     },
     "execution_count": 194,
     "metadata": {},
     "output_type": "execute_result"
    }
   ],
   "source": [
    "# Sanity Check to verify that \"C/A\", \"UNIT\", \"SCP\", \"STATION\", \"DATE_TIME\" is unique\n",
    "(mta_df\n",
    " .groupby([\"TURNSTILE\", \"DATETIME\"])\n",
    " .ENTRIES.count()\n",
    " .reset_index()\n",
    " .sort_values(\"ENTRIES\", ascending=False)).head(5)"
   ]
  },
  {
   "cell_type": "code",
   "execution_count": 195,
   "metadata": {
    "ExecuteTime": {
     "end_time": "2020-09-27T05:16:56.538810Z",
     "start_time": "2020-09-27T05:16:56.524867Z"
    },
    "scrolled": true
   },
   "outputs": [
    {
     "data": {
      "text/html": [
       "<div>\n",
       "<style scoped>\n",
       "    .dataframe tbody tr th:only-of-type {\n",
       "        vertical-align: middle;\n",
       "    }\n",
       "\n",
       "    .dataframe tbody tr th {\n",
       "        vertical-align: top;\n",
       "    }\n",
       "\n",
       "    .dataframe thead th {\n",
       "        text-align: right;\n",
       "    }\n",
       "</style>\n",
       "<table border=\"1\" class=\"dataframe\">\n",
       "  <thead>\n",
       "    <tr style=\"text-align: right;\">\n",
       "      <th></th>\n",
       "      <th>C/A</th>\n",
       "      <th>UNIT</th>\n",
       "      <th>SCP</th>\n",
       "      <th>STATION</th>\n",
       "      <th>LINENAME</th>\n",
       "      <th>DIVISION</th>\n",
       "      <th>DATE</th>\n",
       "      <th>TIME</th>\n",
       "      <th>DESC</th>\n",
       "      <th>ENTRIES</th>\n",
       "      <th>EXITS</th>\n",
       "      <th>DATETIME</th>\n",
       "      <th>TURNSTILE</th>\n",
       "    </tr>\n",
       "  </thead>\n",
       "  <tbody>\n",
       "    <tr>\n",
       "      <th>0</th>\n",
       "      <td>A002</td>\n",
       "      <td>R051</td>\n",
       "      <td>02-00-00</td>\n",
       "      <td>59 ST NQR456W</td>\n",
       "      <td>NQR456W</td>\n",
       "      <td>BMT</td>\n",
       "      <td>03/16/2019</td>\n",
       "      <td>00:00:00</td>\n",
       "      <td>REGULAR</td>\n",
       "      <td>6980704</td>\n",
       "      <td>2367517</td>\n",
       "      <td>2019-03-16 00:00:00</td>\n",
       "      <td>A002 R051 02-00-00 59 ST NQR456W</td>\n",
       "    </tr>\n",
       "    <tr>\n",
       "      <th>1</th>\n",
       "      <td>A002</td>\n",
       "      <td>R051</td>\n",
       "      <td>02-00-00</td>\n",
       "      <td>59 ST NQR456W</td>\n",
       "      <td>NQR456W</td>\n",
       "      <td>BMT</td>\n",
       "      <td>03/16/2019</td>\n",
       "      <td>04:00:00</td>\n",
       "      <td>RECOVR AUD</td>\n",
       "      <td>6980727</td>\n",
       "      <td>2367519</td>\n",
       "      <td>2019-03-16 04:00:00</td>\n",
       "      <td>A002 R051 02-00-00 59 ST NQR456W</td>\n",
       "    </tr>\n",
       "    <tr>\n",
       "      <th>2</th>\n",
       "      <td>A002</td>\n",
       "      <td>R051</td>\n",
       "      <td>02-00-00</td>\n",
       "      <td>59 ST NQR456W</td>\n",
       "      <td>NQR456W</td>\n",
       "      <td>BMT</td>\n",
       "      <td>03/16/2019</td>\n",
       "      <td>08:00:00</td>\n",
       "      <td>RECOVR AUD</td>\n",
       "      <td>6980747</td>\n",
       "      <td>2367546</td>\n",
       "      <td>2019-03-16 08:00:00</td>\n",
       "      <td>A002 R051 02-00-00 59 ST NQR456W</td>\n",
       "    </tr>\n",
       "    <tr>\n",
       "      <th>3</th>\n",
       "      <td>A002</td>\n",
       "      <td>R051</td>\n",
       "      <td>02-00-00</td>\n",
       "      <td>59 ST NQR456W</td>\n",
       "      <td>NQR456W</td>\n",
       "      <td>BMT</td>\n",
       "      <td>03/16/2019</td>\n",
       "      <td>12:00:00</td>\n",
       "      <td>REGULAR</td>\n",
       "      <td>6980855</td>\n",
       "      <td>2367610</td>\n",
       "      <td>2019-03-16 12:00:00</td>\n",
       "      <td>A002 R051 02-00-00 59 ST NQR456W</td>\n",
       "    </tr>\n",
       "    <tr>\n",
       "      <th>4</th>\n",
       "      <td>A002</td>\n",
       "      <td>R051</td>\n",
       "      <td>02-00-00</td>\n",
       "      <td>59 ST NQR456W</td>\n",
       "      <td>NQR456W</td>\n",
       "      <td>BMT</td>\n",
       "      <td>03/16/2019</td>\n",
       "      <td>16:00:00</td>\n",
       "      <td>REGULAR</td>\n",
       "      <td>6981109</td>\n",
       "      <td>2367667</td>\n",
       "      <td>2019-03-16 16:00:00</td>\n",
       "      <td>A002 R051 02-00-00 59 ST NQR456W</td>\n",
       "    </tr>\n",
       "  </tbody>\n",
       "</table>\n",
       "</div>"
      ],
      "text/plain": [
       "    C/A  UNIT       SCP        STATION LINENAME DIVISION        DATE  \\\n",
       "0  A002  R051  02-00-00  59 ST NQR456W  NQR456W      BMT  03/16/2019   \n",
       "1  A002  R051  02-00-00  59 ST NQR456W  NQR456W      BMT  03/16/2019   \n",
       "2  A002  R051  02-00-00  59 ST NQR456W  NQR456W      BMT  03/16/2019   \n",
       "3  A002  R051  02-00-00  59 ST NQR456W  NQR456W      BMT  03/16/2019   \n",
       "4  A002  R051  02-00-00  59 ST NQR456W  NQR456W      BMT  03/16/2019   \n",
       "\n",
       "       TIME        DESC  ENTRIES    EXITS            DATETIME  \\\n",
       "0  00:00:00     REGULAR  6980704  2367517 2019-03-16 00:00:00   \n",
       "1  04:00:00  RECOVR AUD  6980727  2367519 2019-03-16 04:00:00   \n",
       "2  08:00:00  RECOVR AUD  6980747  2367546 2019-03-16 08:00:00   \n",
       "3  12:00:00     REGULAR  6980855  2367610 2019-03-16 12:00:00   \n",
       "4  16:00:00     REGULAR  6981109  2367667 2019-03-16 16:00:00   \n",
       "\n",
       "                          TURNSTILE  \n",
       "0  A002 R051 02-00-00 59 ST NQR456W  \n",
       "1  A002 R051 02-00-00 59 ST NQR456W  \n",
       "2  A002 R051 02-00-00 59 ST NQR456W  \n",
       "3  A002 R051 02-00-00 59 ST NQR456W  \n",
       "4  A002 R051 02-00-00 59 ST NQR456W  "
      ]
     },
     "execution_count": 195,
     "metadata": {},
     "output_type": "execute_result"
    }
   ],
   "source": [
    "mta_df.head()"
   ]
  },
  {
   "cell_type": "markdown",
   "metadata": {},
   "source": [
    "## Making daily frames"
   ]
  },
  {
   "cell_type": "code",
   "execution_count": 248,
   "metadata": {
    "ExecuteTime": {
     "end_time": "2020-09-27T05:47:27.516480Z",
     "start_time": "2020-09-27T05:47:26.311818Z"
    }
   },
   "outputs": [],
   "source": [
    "\n",
    "mta_daily = (mta_df\n",
    "                .groupby([\"C/A\", \"UNIT\", \"SCP\", \"STATION\", \"DATE\"],as_index=False)  #do not group by turnstile!! That will screw up box plot later\n",
    "                .ENTRIES.first())\n",
    "\n",
    "\n",
    "# did not end up using this frame:\n",
    "\n",
    "# turnstiles_daily = (mta_df             \n",
    "#                         .groupby([\"TURNSTILE\",\"DATE\", ],as_index=False)\n",
    "#                         .ENTRIES.first())\n",
    "\n"
   ]
  },
  {
   "cell_type": "code",
   "execution_count": 249,
   "metadata": {
    "ExecuteTime": {
     "end_time": "2020-09-27T05:47:27.583448Z",
     "start_time": "2020-09-27T05:47:27.574251Z"
    }
   },
   "outputs": [
    {
     "data": {
      "text/html": [
       "<div>\n",
       "<style scoped>\n",
       "    .dataframe tbody tr th:only-of-type {\n",
       "        vertical-align: middle;\n",
       "    }\n",
       "\n",
       "    .dataframe tbody tr th {\n",
       "        vertical-align: top;\n",
       "    }\n",
       "\n",
       "    .dataframe thead th {\n",
       "        text-align: right;\n",
       "    }\n",
       "</style>\n",
       "<table border=\"1\" class=\"dataframe\">\n",
       "  <thead>\n",
       "    <tr style=\"text-align: right;\">\n",
       "      <th></th>\n",
       "      <th>C/A</th>\n",
       "      <th>UNIT</th>\n",
       "      <th>SCP</th>\n",
       "      <th>STATION</th>\n",
       "      <th>DATE</th>\n",
       "      <th>ENTRIES</th>\n",
       "    </tr>\n",
       "  </thead>\n",
       "  <tbody>\n",
       "    <tr>\n",
       "      <th>0</th>\n",
       "      <td>A002</td>\n",
       "      <td>R051</td>\n",
       "      <td>02-00-00</td>\n",
       "      <td>59 ST NQR456W</td>\n",
       "      <td>03/16/2019</td>\n",
       "      <td>6980704</td>\n",
       "    </tr>\n",
       "    <tr>\n",
       "      <th>1</th>\n",
       "      <td>A002</td>\n",
       "      <td>R051</td>\n",
       "      <td>02-00-00</td>\n",
       "      <td>59 ST NQR456W</td>\n",
       "      <td>03/17/2019</td>\n",
       "      <td>6981564</td>\n",
       "    </tr>\n",
       "    <tr>\n",
       "      <th>2</th>\n",
       "      <td>A002</td>\n",
       "      <td>R051</td>\n",
       "      <td>02-00-00</td>\n",
       "      <td>59 ST NQR456W</td>\n",
       "      <td>03/18/2019</td>\n",
       "      <td>6982134</td>\n",
       "    </tr>\n",
       "    <tr>\n",
       "      <th>3</th>\n",
       "      <td>A002</td>\n",
       "      <td>R051</td>\n",
       "      <td>02-00-00</td>\n",
       "      <td>59 ST NQR456W</td>\n",
       "      <td>03/19/2019</td>\n",
       "      <td>6983646</td>\n",
       "    </tr>\n",
       "    <tr>\n",
       "      <th>4</th>\n",
       "      <td>A002</td>\n",
       "      <td>R051</td>\n",
       "      <td>02-00-00</td>\n",
       "      <td>59 ST NQR456W</td>\n",
       "      <td>03/20/2019</td>\n",
       "      <td>6985159</td>\n",
       "    </tr>\n",
       "  </tbody>\n",
       "</table>\n",
       "</div>"
      ],
      "text/plain": [
       "    C/A  UNIT       SCP        STATION        DATE  ENTRIES\n",
       "0  A002  R051  02-00-00  59 ST NQR456W  03/16/2019  6980704\n",
       "1  A002  R051  02-00-00  59 ST NQR456W  03/17/2019  6981564\n",
       "2  A002  R051  02-00-00  59 ST NQR456W  03/18/2019  6982134\n",
       "3  A002  R051  02-00-00  59 ST NQR456W  03/19/2019  6983646\n",
       "4  A002  R051  02-00-00  59 ST NQR456W  03/20/2019  6985159"
      ]
     },
     "execution_count": 249,
     "metadata": {},
     "output_type": "execute_result"
    }
   ],
   "source": [
    "mta_daily.head()"
   ]
  },
  {
   "cell_type": "markdown",
   "metadata": {},
   "source": [
    "## Adding previous date and entries columns"
   ]
  },
  {
   "cell_type": "code",
   "execution_count": 250,
   "metadata": {
    "ExecuteTime": {
     "end_time": "2020-09-27T05:47:32.030519Z",
     "start_time": "2020-09-27T05:47:29.951718Z"
    },
    "scrolled": true
   },
   "outputs": [
    {
     "name": "stderr",
     "output_type": "stream",
     "text": [
      "<ipython-input-250-a8c68b31b527>:1: FutureWarning: Indexing with multiple keys (implicitly converted to a tuple of keys) will be deprecated, use a list instead.\n",
      "  mta_daily[[\"PREV_DATE\", \"PREV_ENTRIES\"]] = (mta_daily\n"
     ]
    }
   ],
   "source": [
    "mta_daily[[\"PREV_DATE\", \"PREV_ENTRIES\"]] = (mta_daily\n",
    "                                                .groupby([\"C/A\", \"UNIT\", \"SCP\", \"STATION\"])[\"DATE\", \"ENTRIES\"]\n",
    "                                                .apply(lambda grp: grp.shift(1)))"
   ]
  },
  {
   "cell_type": "code",
   "execution_count": 251,
   "metadata": {
    "ExecuteTime": {
     "end_time": "2020-09-27T05:47:32.042939Z",
     "start_time": "2020-09-27T05:47:32.032174Z"
    }
   },
   "outputs": [
    {
     "data": {
      "text/html": [
       "<div>\n",
       "<style scoped>\n",
       "    .dataframe tbody tr th:only-of-type {\n",
       "        vertical-align: middle;\n",
       "    }\n",
       "\n",
       "    .dataframe tbody tr th {\n",
       "        vertical-align: top;\n",
       "    }\n",
       "\n",
       "    .dataframe thead th {\n",
       "        text-align: right;\n",
       "    }\n",
       "</style>\n",
       "<table border=\"1\" class=\"dataframe\">\n",
       "  <thead>\n",
       "    <tr style=\"text-align: right;\">\n",
       "      <th></th>\n",
       "      <th>C/A</th>\n",
       "      <th>UNIT</th>\n",
       "      <th>SCP</th>\n",
       "      <th>STATION</th>\n",
       "      <th>DATE</th>\n",
       "      <th>ENTRIES</th>\n",
       "      <th>PREV_DATE</th>\n",
       "      <th>PREV_ENTRIES</th>\n",
       "    </tr>\n",
       "  </thead>\n",
       "  <tbody>\n",
       "    <tr>\n",
       "      <th>0</th>\n",
       "      <td>A002</td>\n",
       "      <td>R051</td>\n",
       "      <td>02-00-00</td>\n",
       "      <td>59 ST NQR456W</td>\n",
       "      <td>03/16/2019</td>\n",
       "      <td>6980704</td>\n",
       "      <td>NaN</td>\n",
       "      <td>NaN</td>\n",
       "    </tr>\n",
       "    <tr>\n",
       "      <th>1</th>\n",
       "      <td>A002</td>\n",
       "      <td>R051</td>\n",
       "      <td>02-00-00</td>\n",
       "      <td>59 ST NQR456W</td>\n",
       "      <td>03/17/2019</td>\n",
       "      <td>6981564</td>\n",
       "      <td>03/16/2019</td>\n",
       "      <td>6980704.0</td>\n",
       "    </tr>\n",
       "    <tr>\n",
       "      <th>2</th>\n",
       "      <td>A002</td>\n",
       "      <td>R051</td>\n",
       "      <td>02-00-00</td>\n",
       "      <td>59 ST NQR456W</td>\n",
       "      <td>03/18/2019</td>\n",
       "      <td>6982134</td>\n",
       "      <td>03/17/2019</td>\n",
       "      <td>6981564.0</td>\n",
       "    </tr>\n",
       "    <tr>\n",
       "      <th>3</th>\n",
       "      <td>A002</td>\n",
       "      <td>R051</td>\n",
       "      <td>02-00-00</td>\n",
       "      <td>59 ST NQR456W</td>\n",
       "      <td>03/19/2019</td>\n",
       "      <td>6983646</td>\n",
       "      <td>03/18/2019</td>\n",
       "      <td>6982134.0</td>\n",
       "    </tr>\n",
       "    <tr>\n",
       "      <th>4</th>\n",
       "      <td>A002</td>\n",
       "      <td>R051</td>\n",
       "      <td>02-00-00</td>\n",
       "      <td>59 ST NQR456W</td>\n",
       "      <td>03/20/2019</td>\n",
       "      <td>6985159</td>\n",
       "      <td>03/19/2019</td>\n",
       "      <td>6983646.0</td>\n",
       "    </tr>\n",
       "  </tbody>\n",
       "</table>\n",
       "</div>"
      ],
      "text/plain": [
       "    C/A  UNIT       SCP        STATION        DATE  ENTRIES   PREV_DATE  \\\n",
       "0  A002  R051  02-00-00  59 ST NQR456W  03/16/2019  6980704         NaN   \n",
       "1  A002  R051  02-00-00  59 ST NQR456W  03/17/2019  6981564  03/16/2019   \n",
       "2  A002  R051  02-00-00  59 ST NQR456W  03/18/2019  6982134  03/17/2019   \n",
       "3  A002  R051  02-00-00  59 ST NQR456W  03/19/2019  6983646  03/18/2019   \n",
       "4  A002  R051  02-00-00  59 ST NQR456W  03/20/2019  6985159  03/19/2019   \n",
       "\n",
       "   PREV_ENTRIES  \n",
       "0           NaN  \n",
       "1     6980704.0  \n",
       "2     6981564.0  \n",
       "3     6982134.0  \n",
       "4     6983646.0  "
      ]
     },
     "execution_count": 251,
     "metadata": {},
     "output_type": "execute_result"
    }
   ],
   "source": [
    "mta_daily.head()"
   ]
  },
  {
   "cell_type": "markdown",
   "metadata": {},
   "source": [
    "## Drop the rows for the earliest date in the df\n"
   ]
  },
  {
   "cell_type": "code",
   "execution_count": 252,
   "metadata": {
    "ExecuteTime": {
     "end_time": "2020-09-27T05:47:35.130645Z",
     "start_time": "2020-09-27T05:47:35.024472Z"
    }
   },
   "outputs": [
    {
     "data": {
      "text/html": [
       "<div>\n",
       "<style scoped>\n",
       "    .dataframe tbody tr th:only-of-type {\n",
       "        vertical-align: middle;\n",
       "    }\n",
       "\n",
       "    .dataframe tbody tr th {\n",
       "        vertical-align: top;\n",
       "    }\n",
       "\n",
       "    .dataframe thead th {\n",
       "        text-align: right;\n",
       "    }\n",
       "</style>\n",
       "<table border=\"1\" class=\"dataframe\">\n",
       "  <thead>\n",
       "    <tr style=\"text-align: right;\">\n",
       "      <th></th>\n",
       "      <th>C/A</th>\n",
       "      <th>UNIT</th>\n",
       "      <th>SCP</th>\n",
       "      <th>STATION</th>\n",
       "      <th>DATE</th>\n",
       "      <th>ENTRIES</th>\n",
       "      <th>PREV_DATE</th>\n",
       "      <th>PREV_ENTRIES</th>\n",
       "    </tr>\n",
       "  </thead>\n",
       "  <tbody>\n",
       "    <tr>\n",
       "      <th>1</th>\n",
       "      <td>A002</td>\n",
       "      <td>R051</td>\n",
       "      <td>02-00-00</td>\n",
       "      <td>59 ST NQR456W</td>\n",
       "      <td>03/17/2019</td>\n",
       "      <td>6981564</td>\n",
       "      <td>03/16/2019</td>\n",
       "      <td>6980704.0</td>\n",
       "    </tr>\n",
       "    <tr>\n",
       "      <th>2</th>\n",
       "      <td>A002</td>\n",
       "      <td>R051</td>\n",
       "      <td>02-00-00</td>\n",
       "      <td>59 ST NQR456W</td>\n",
       "      <td>03/18/2019</td>\n",
       "      <td>6982134</td>\n",
       "      <td>03/17/2019</td>\n",
       "      <td>6981564.0</td>\n",
       "    </tr>\n",
       "    <tr>\n",
       "      <th>3</th>\n",
       "      <td>A002</td>\n",
       "      <td>R051</td>\n",
       "      <td>02-00-00</td>\n",
       "      <td>59 ST NQR456W</td>\n",
       "      <td>03/19/2019</td>\n",
       "      <td>6983646</td>\n",
       "      <td>03/18/2019</td>\n",
       "      <td>6982134.0</td>\n",
       "    </tr>\n",
       "    <tr>\n",
       "      <th>4</th>\n",
       "      <td>A002</td>\n",
       "      <td>R051</td>\n",
       "      <td>02-00-00</td>\n",
       "      <td>59 ST NQR456W</td>\n",
       "      <td>03/20/2019</td>\n",
       "      <td>6985159</td>\n",
       "      <td>03/19/2019</td>\n",
       "      <td>6983646.0</td>\n",
       "    </tr>\n",
       "    <tr>\n",
       "      <th>5</th>\n",
       "      <td>A002</td>\n",
       "      <td>R051</td>\n",
       "      <td>02-00-00</td>\n",
       "      <td>59 ST NQR456W</td>\n",
       "      <td>03/21/2019</td>\n",
       "      <td>6986742</td>\n",
       "      <td>03/20/2019</td>\n",
       "      <td>6985159.0</td>\n",
       "    </tr>\n",
       "  </tbody>\n",
       "</table>\n",
       "</div>"
      ],
      "text/plain": [
       "    C/A  UNIT       SCP        STATION        DATE  ENTRIES   PREV_DATE  \\\n",
       "1  A002  R051  02-00-00  59 ST NQR456W  03/17/2019  6981564  03/16/2019   \n",
       "2  A002  R051  02-00-00  59 ST NQR456W  03/18/2019  6982134  03/17/2019   \n",
       "3  A002  R051  02-00-00  59 ST NQR456W  03/19/2019  6983646  03/18/2019   \n",
       "4  A002  R051  02-00-00  59 ST NQR456W  03/20/2019  6985159  03/19/2019   \n",
       "5  A002  R051  02-00-00  59 ST NQR456W  03/21/2019  6986742  03/20/2019   \n",
       "\n",
       "   PREV_ENTRIES  \n",
       "1     6980704.0  \n",
       "2     6981564.0  \n",
       "3     6982134.0  \n",
       "4     6983646.0  \n",
       "5     6985159.0  "
      ]
     },
     "execution_count": 252,
     "metadata": {},
     "output_type": "execute_result"
    }
   ],
   "source": [
    "mta_daily.dropna(subset=[\"PREV_DATE\"], axis=0, inplace=True)\n",
    "mta_daily.head()"
   ]
  },
  {
   "cell_type": "markdown",
   "metadata": {},
   "source": [
    "## Counters in reverse?"
   ]
  },
  {
   "cell_type": "code",
   "execution_count": 253,
   "metadata": {
    "ExecuteTime": {
     "end_time": "2020-09-27T05:47:36.253337Z",
     "start_time": "2020-09-27T05:47:36.240115Z"
    }
   },
   "outputs": [
    {
     "data": {
      "text/html": [
       "<div>\n",
       "<style scoped>\n",
       "    .dataframe tbody tr th:only-of-type {\n",
       "        vertical-align: middle;\n",
       "    }\n",
       "\n",
       "    .dataframe tbody tr th {\n",
       "        vertical-align: top;\n",
       "    }\n",
       "\n",
       "    .dataframe thead th {\n",
       "        text-align: right;\n",
       "    }\n",
       "</style>\n",
       "<table border=\"1\" class=\"dataframe\">\n",
       "  <thead>\n",
       "    <tr style=\"text-align: right;\">\n",
       "      <th></th>\n",
       "      <th>C/A</th>\n",
       "      <th>UNIT</th>\n",
       "      <th>SCP</th>\n",
       "      <th>STATION</th>\n",
       "      <th>DATE</th>\n",
       "      <th>ENTRIES</th>\n",
       "      <th>PREV_DATE</th>\n",
       "      <th>PREV_ENTRIES</th>\n",
       "    </tr>\n",
       "  </thead>\n",
       "  <tbody>\n",
       "    <tr>\n",
       "      <th>7653</th>\n",
       "      <td>A025</td>\n",
       "      <td>R023</td>\n",
       "      <td>01-03-01</td>\n",
       "      <td>34 ST-HERALD SQ BDFMNQRW</td>\n",
       "      <td>03/17/2019</td>\n",
       "      <td>1238618405</td>\n",
       "      <td>03/16/2019</td>\n",
       "      <td>1.238622e+09</td>\n",
       "    </tr>\n",
       "    <tr>\n",
       "      <th>7654</th>\n",
       "      <td>A025</td>\n",
       "      <td>R023</td>\n",
       "      <td>01-03-01</td>\n",
       "      <td>34 ST-HERALD SQ BDFMNQRW</td>\n",
       "      <td>03/18/2019</td>\n",
       "      <td>1238615918</td>\n",
       "      <td>03/17/2019</td>\n",
       "      <td>1.238618e+09</td>\n",
       "    </tr>\n",
       "    <tr>\n",
       "      <th>7655</th>\n",
       "      <td>A025</td>\n",
       "      <td>R023</td>\n",
       "      <td>01-03-01</td>\n",
       "      <td>34 ST-HERALD SQ BDFMNQRW</td>\n",
       "      <td>03/19/2019</td>\n",
       "      <td>1238611834</td>\n",
       "      <td>03/18/2019</td>\n",
       "      <td>1.238616e+09</td>\n",
       "    </tr>\n",
       "    <tr>\n",
       "      <th>7656</th>\n",
       "      <td>A025</td>\n",
       "      <td>R023</td>\n",
       "      <td>01-03-01</td>\n",
       "      <td>34 ST-HERALD SQ BDFMNQRW</td>\n",
       "      <td>03/20/2019</td>\n",
       "      <td>1238607734</td>\n",
       "      <td>03/19/2019</td>\n",
       "      <td>1.238612e+09</td>\n",
       "    </tr>\n",
       "    <tr>\n",
       "      <th>7657</th>\n",
       "      <td>A025</td>\n",
       "      <td>R023</td>\n",
       "      <td>01-03-01</td>\n",
       "      <td>34 ST-HERALD SQ BDFMNQRW</td>\n",
       "      <td>03/21/2019</td>\n",
       "      <td>1238603605</td>\n",
       "      <td>03/20/2019</td>\n",
       "      <td>1.238608e+09</td>\n",
       "    </tr>\n",
       "  </tbody>\n",
       "</table>\n",
       "</div>"
      ],
      "text/plain": [
       "       C/A  UNIT       SCP                   STATION        DATE     ENTRIES  \\\n",
       "7653  A025  R023  01-03-01  34 ST-HERALD SQ BDFMNQRW  03/17/2019  1238618405   \n",
       "7654  A025  R023  01-03-01  34 ST-HERALD SQ BDFMNQRW  03/18/2019  1238615918   \n",
       "7655  A025  R023  01-03-01  34 ST-HERALD SQ BDFMNQRW  03/19/2019  1238611834   \n",
       "7656  A025  R023  01-03-01  34 ST-HERALD SQ BDFMNQRW  03/20/2019  1238607734   \n",
       "7657  A025  R023  01-03-01  34 ST-HERALD SQ BDFMNQRW  03/21/2019  1238603605   \n",
       "\n",
       "       PREV_DATE  PREV_ENTRIES  \n",
       "7653  03/16/2019  1.238622e+09  \n",
       "7654  03/17/2019  1.238618e+09  \n",
       "7655  03/18/2019  1.238616e+09  \n",
       "7656  03/19/2019  1.238612e+09  \n",
       "7657  03/20/2019  1.238608e+09  "
      ]
     },
     "execution_count": 253,
     "metadata": {},
     "output_type": "execute_result"
    }
   ],
   "source": [
    "mta_daily[mta_daily[\"ENTRIES\"] < mta_daily[\"PREV_ENTRIES\"]].head()"
   ]
  },
  {
   "cell_type": "markdown",
   "metadata": {},
   "source": [
    "## Let's see how many stations have this problem\n"
   ]
  },
  {
   "cell_type": "code",
   "execution_count": 254,
   "metadata": {
    "ExecuteTime": {
     "end_time": "2020-09-27T05:47:37.526472Z",
     "start_time": "2020-09-27T05:47:37.512314Z"
    }
   },
   "outputs": [
    {
     "data": {
      "text/plain": [
       "C/A   UNIT  SCP       STATION                 \n",
       "A025  R023  01-03-01  34 ST-HERALD SQ BDFMNQRW    97\n",
       "A037  R170  05-00-00  14 ST-UNION SQ LNQR456W      1\n",
       "A038  R085  00-00-01  8 ST-NYU NRW                 1\n",
       "A039  R085  01-00-01  8 ST-NYU NRW                 1\n",
       "A042  R086  01-00-04  PRINCE ST NRW                1\n",
       "                                                  ..\n",
       "R623  R061  00-00-01  NOSTRAND AV 3                2\n",
       "R629  R065  00-00-00  ROCKAWAY AV 3                1\n",
       "R645  R110  00-03-00  FLATBUSH AV-B.C 25           1\n",
       "R646  R110  01-00-01  FLATBUSH AV-B.C 25          97\n",
       "R730  R431  00-00-04  EASTCHSTER/DYRE 5           93\n",
       "Length: 568, dtype: int64"
      ]
     },
     "execution_count": 254,
     "metadata": {},
     "output_type": "execute_result"
    }
   ],
   "source": [
    "(mta_daily[mta_daily[\"ENTRIES\"] < mta_daily[\"PREV_ENTRIES\"]]\n",
    "    .groupby([\"C/A\", \"UNIT\", \"SCP\", \"STATION\"])\n",
    "    .size())"
   ]
  },
  {
   "cell_type": "markdown",
   "metadata": {},
   "source": [
    "## Fixing counter"
   ]
  },
  {
   "cell_type": "code",
   "execution_count": 256,
   "metadata": {
    "ExecuteTime": {
     "end_time": "2020-09-27T05:48:03.446076Z",
     "start_time": "2020-09-27T05:47:59.321454Z"
    }
   },
   "outputs": [],
   "source": [
    "def get_daily_counts(row, max_counter):\n",
    "    counter = row[\"ENTRIES\"] - row[\"PREV_ENTRIES\"]\n",
    "    if counter < 0:\n",
    "        # Maybe counter is reversed?\n",
    "        counter = -counter\n",
    "    if counter > max_counter:\n",
    "        # Maybe counter was reset to 0? \n",
    "#         print(row[\"ENTRIES\"], row[\"PREV_ENTRIES\"])\n",
    "        counter = min(row[\"ENTRIES\"], row[\"PREV_ENTRIES\"])\n",
    "    if counter > max_counter:\n",
    "        # Check it again to make sure we're not still giving a counter that's too big\n",
    "        return 0\n",
    "    return counter\n",
    "\n",
    "# If counter is > 1Million, then the counter might have been reset.  \n",
    "# Just set it to zero as different counters have different cycle limits\n",
    "# It'd probably be a good idea to use a number even significantly smaller than 1 million as the limit!\n",
    "mta_daily[\"DAILY_ENTRIES\"] = mta_daily.apply(get_daily_counts, axis=1, max_counter=40000)"
   ]
  },
  {
   "cell_type": "code",
   "execution_count": 257,
   "metadata": {
    "ExecuteTime": {
     "end_time": "2020-09-27T05:48:04.331461Z",
     "start_time": "2020-09-27T05:48:04.320852Z"
    },
    "scrolled": true
   },
   "outputs": [
    {
     "data": {
      "text/html": [
       "<div>\n",
       "<style scoped>\n",
       "    .dataframe tbody tr th:only-of-type {\n",
       "        vertical-align: middle;\n",
       "    }\n",
       "\n",
       "    .dataframe tbody tr th {\n",
       "        vertical-align: top;\n",
       "    }\n",
       "\n",
       "    .dataframe thead th {\n",
       "        text-align: right;\n",
       "    }\n",
       "</style>\n",
       "<table border=\"1\" class=\"dataframe\">\n",
       "  <thead>\n",
       "    <tr style=\"text-align: right;\">\n",
       "      <th></th>\n",
       "      <th>C/A</th>\n",
       "      <th>UNIT</th>\n",
       "      <th>SCP</th>\n",
       "      <th>STATION</th>\n",
       "      <th>DATE</th>\n",
       "      <th>ENTRIES</th>\n",
       "      <th>PREV_DATE</th>\n",
       "      <th>PREV_ENTRIES</th>\n",
       "      <th>DAILY_ENTRIES</th>\n",
       "    </tr>\n",
       "  </thead>\n",
       "  <tbody>\n",
       "    <tr>\n",
       "      <th>1</th>\n",
       "      <td>A002</td>\n",
       "      <td>R051</td>\n",
       "      <td>02-00-00</td>\n",
       "      <td>59 ST NQR456W</td>\n",
       "      <td>03/17/2019</td>\n",
       "      <td>6981564</td>\n",
       "      <td>03/16/2019</td>\n",
       "      <td>6980704.0</td>\n",
       "      <td>860.0</td>\n",
       "    </tr>\n",
       "    <tr>\n",
       "      <th>2</th>\n",
       "      <td>A002</td>\n",
       "      <td>R051</td>\n",
       "      <td>02-00-00</td>\n",
       "      <td>59 ST NQR456W</td>\n",
       "      <td>03/18/2019</td>\n",
       "      <td>6982134</td>\n",
       "      <td>03/17/2019</td>\n",
       "      <td>6981564.0</td>\n",
       "      <td>570.0</td>\n",
       "    </tr>\n",
       "    <tr>\n",
       "      <th>3</th>\n",
       "      <td>A002</td>\n",
       "      <td>R051</td>\n",
       "      <td>02-00-00</td>\n",
       "      <td>59 ST NQR456W</td>\n",
       "      <td>03/19/2019</td>\n",
       "      <td>6983646</td>\n",
       "      <td>03/18/2019</td>\n",
       "      <td>6982134.0</td>\n",
       "      <td>1512.0</td>\n",
       "    </tr>\n",
       "    <tr>\n",
       "      <th>4</th>\n",
       "      <td>A002</td>\n",
       "      <td>R051</td>\n",
       "      <td>02-00-00</td>\n",
       "      <td>59 ST NQR456W</td>\n",
       "      <td>03/20/2019</td>\n",
       "      <td>6985159</td>\n",
       "      <td>03/19/2019</td>\n",
       "      <td>6983646.0</td>\n",
       "      <td>1513.0</td>\n",
       "    </tr>\n",
       "    <tr>\n",
       "      <th>5</th>\n",
       "      <td>A002</td>\n",
       "      <td>R051</td>\n",
       "      <td>02-00-00</td>\n",
       "      <td>59 ST NQR456W</td>\n",
       "      <td>03/21/2019</td>\n",
       "      <td>6986742</td>\n",
       "      <td>03/20/2019</td>\n",
       "      <td>6985159.0</td>\n",
       "      <td>1583.0</td>\n",
       "    </tr>\n",
       "  </tbody>\n",
       "</table>\n",
       "</div>"
      ],
      "text/plain": [
       "    C/A  UNIT       SCP        STATION        DATE  ENTRIES   PREV_DATE  \\\n",
       "1  A002  R051  02-00-00  59 ST NQR456W  03/17/2019  6981564  03/16/2019   \n",
       "2  A002  R051  02-00-00  59 ST NQR456W  03/18/2019  6982134  03/17/2019   \n",
       "3  A002  R051  02-00-00  59 ST NQR456W  03/19/2019  6983646  03/18/2019   \n",
       "4  A002  R051  02-00-00  59 ST NQR456W  03/20/2019  6985159  03/19/2019   \n",
       "5  A002  R051  02-00-00  59 ST NQR456W  03/21/2019  6986742  03/20/2019   \n",
       "\n",
       "   PREV_ENTRIES  DAILY_ENTRIES  \n",
       "1     6980704.0          860.0  \n",
       "2     6981564.0          570.0  \n",
       "3     6982134.0         1512.0  \n",
       "4     6983646.0         1513.0  \n",
       "5     6985159.0         1583.0  "
      ]
     },
     "execution_count": 257,
     "metadata": {},
     "output_type": "execute_result"
    }
   ],
   "source": [
    "mta_daily.head()"
   ]
  },
  {
   "cell_type": "markdown",
   "metadata": {},
   "source": [
    "## Examine distribution"
   ]
  },
  {
   "cell_type": "code",
   "execution_count": 311,
   "metadata": {
    "ExecuteTime": {
     "end_time": "2020-09-27T06:27:58.129240Z",
     "start_time": "2020-09-27T06:27:57.154081Z"
    }
   },
   "outputs": [
    {
     "name": "stderr",
     "output_type": "stream",
     "text": [
      "/Users/noah/opt/anaconda3/envs/metis/lib/python3.8/site-packages/seaborn/distributions.py:2551: FutureWarning: `distplot` is a deprecated function and will be removed in a future version. Please adapt your code to use either `displot` (a figure-level function with similar flexibility) or `histplot` (an axes-level function for histograms).\n",
      "  warnings.warn(msg, FutureWarning)\n"
     ]
    },
    {
     "data": {
      "image/png": "[encoded data removed]",
      "text/plain": [
       "<Figure size 432x288 with 1 Axes>"
      ]
     },
     "metadata": {
      "needs_background": "light"
     },
     "output_type": "display_data"
    }
   ],
   "source": [
    "sns.distplot(mta_daily['DAILY_ENTRIES']\n",
    "             [mta_daily['DAILY_ENTRIES'] < 20000]).set_title('Distribution of daily entries frequncy',  size=15);"
   ]
  },
  {
   "cell_type": "markdown",
   "metadata": {},
   "source": [
    "## First get daily entries by station"
   ]
  },
  {
   "cell_type": "code",
   "execution_count": 259,
   "metadata": {
    "ExecuteTime": {
     "end_time": "2020-09-27T05:48:08.918899Z",
     "start_time": "2020-09-27T05:48:08.840495Z"
    }
   },
   "outputs": [
    {
     "data": {
      "text/html": [
       "<div>\n",
       "<style scoped>\n",
       "    .dataframe tbody tr th:only-of-type {\n",
       "        vertical-align: middle;\n",
       "    }\n",
       "\n",
       "    .dataframe tbody tr th {\n",
       "        vertical-align: top;\n",
       "    }\n",
       "\n",
       "    .dataframe thead th {\n",
       "        text-align: right;\n",
       "    }\n",
       "</style>\n",
       "<table border=\"1\" class=\"dataframe\">\n",
       "  <thead>\n",
       "    <tr style=\"text-align: right;\">\n",
       "      <th></th>\n",
       "      <th>STATION</th>\n",
       "      <th>DATE</th>\n",
       "      <th>DAILY_ENTRIES</th>\n",
       "    </tr>\n",
       "  </thead>\n",
       "  <tbody>\n",
       "    <tr>\n",
       "      <th>0</th>\n",
       "      <td>1 AV L</td>\n",
       "      <td>03/17/2019</td>\n",
       "      <td>5.0</td>\n",
       "    </tr>\n",
       "    <tr>\n",
       "      <th>1</th>\n",
       "      <td>1 AV L</td>\n",
       "      <td>03/18/2019</td>\n",
       "      <td>2.0</td>\n",
       "    </tr>\n",
       "    <tr>\n",
       "      <th>2</th>\n",
       "      <td>1 AV L</td>\n",
       "      <td>03/19/2019</td>\n",
       "      <td>18473.0</td>\n",
       "    </tr>\n",
       "    <tr>\n",
       "      <th>3</th>\n",
       "      <td>1 AV L</td>\n",
       "      <td>03/20/2019</td>\n",
       "      <td>19996.0</td>\n",
       "    </tr>\n",
       "    <tr>\n",
       "      <th>4</th>\n",
       "      <td>1 AV L</td>\n",
       "      <td>03/21/2019</td>\n",
       "      <td>20027.0</td>\n",
       "    </tr>\n",
       "  </tbody>\n",
       "</table>\n",
       "</div>"
      ],
      "text/plain": [
       "  STATION        DATE  DAILY_ENTRIES\n",
       "0  1 AV L  03/17/2019            5.0\n",
       "1  1 AV L  03/18/2019            2.0\n",
       "2  1 AV L  03/19/2019        18473.0\n",
       "3  1 AV L  03/20/2019        19996.0\n",
       "4  1 AV L  03/21/2019        20027.0"
      ]
     },
     "execution_count": 259,
     "metadata": {},
     "output_type": "execute_result"
    }
   ],
   "source": [
    "stations_daily = \\\n",
    "(mta_daily.groupby(['STATION','DATE'])['DAILY_ENTRIES'].sum()\n",
    "                 .reset_index())\n",
    "\n",
    "stations_daily.head()"
   ]
  },
  {
   "cell_type": "markdown",
   "metadata": {},
   "source": [
    "## Then get top 10 stations by daily volume "
   ]
  },
  {
   "cell_type": "code",
   "execution_count": 265,
   "metadata": {
    "ExecuteTime": {
     "end_time": "2020-09-27T05:48:28.323343Z",
     "start_time": "2020-09-27T05:48:28.312416Z"
    }
   },
   "outputs": [
    {
     "data": {
      "text/plain": [
       "313           GRD CNTRL-42 ST 4567S\n",
       "90         34 ST-HERALD SQ BDFMNQRW\n",
       "103    42 ST-PORT AUTH ACENQRS1237W\n",
       "94               34 ST-PENN STA ACE\n",
       "28          14 ST-UNION SQ LNQR456W\n",
       "449     TIMES SQ-42 ST 1237ACENQRSW\n",
       "124            59 ST COLUMBUS ABCD1\n",
       "303              FULTON ST 2345ACJZ\n",
       "107             47-50 STS ROCK BDFM\n",
       "405                  PATH NEW WTC 1\n",
       "Name: STATION, dtype: object"
      ]
     },
     "execution_count": 265,
     "metadata": {},
     "output_type": "execute_result"
    }
   ],
   "source": [
    "# (sum across all days is a reasonable way to define this)\n",
    "top10_stations = \\\n",
    "    (stations_daily.groupby(['STATION'])['DAILY_ENTRIES'].sum()\n",
    "                   .reset_index()\n",
    "                   .sort_values(by='DAILY_ENTRIES',ascending=False) \n",
    "                   .STATION.head(10))\n",
    "\n",
    "top10_stations"
   ]
  },
  {
   "cell_type": "markdown",
   "metadata": {},
   "source": [
    "## Next create a new df that filters the stations daily data down to the top 10"
   ]
  },
  {
   "cell_type": "code",
   "execution_count": 266,
   "metadata": {
    "ExecuteTime": {
     "end_time": "2020-09-27T05:48:29.135549Z",
     "start_time": "2020-09-27T05:48:29.129543Z"
    }
   },
   "outputs": [],
   "source": [
    "station_daily_top10 = \\\n",
    "    stations_daily[stations_daily['STATION'].isin(top10_stations)].sort_values(by = 'DAILY_ENTRIES', ascending = False)"
   ]
  },
  {
   "cell_type": "code",
   "execution_count": 267,
   "metadata": {
    "ExecuteTime": {
     "end_time": "2020-09-27T05:48:29.553459Z",
     "start_time": "2020-09-27T05:48:29.545236Z"
    },
    "scrolled": true
   },
   "outputs": [
    {
     "data": {
      "text/html": [
       "<div>\n",
       "<style scoped>\n",
       "    .dataframe tbody tr th:only-of-type {\n",
       "        vertical-align: middle;\n",
       "    }\n",
       "\n",
       "    .dataframe tbody tr th {\n",
       "        vertical-align: top;\n",
       "    }\n",
       "\n",
       "    .dataframe thead th {\n",
       "        text-align: right;\n",
       "    }\n",
       "</style>\n",
       "<table border=\"1\" class=\"dataframe\">\n",
       "  <thead>\n",
       "    <tr style=\"text-align: right;\">\n",
       "      <th></th>\n",
       "      <th>STATION</th>\n",
       "      <th>DATE</th>\n",
       "      <th>DAILY_ENTRIES</th>\n",
       "    </tr>\n",
       "  </thead>\n",
       "  <tbody>\n",
       "    <tr>\n",
       "      <th>39069</th>\n",
       "      <td>PATH NEW WTC 1</td>\n",
       "      <td>06/05/2019</td>\n",
       "      <td>222918.0</td>\n",
       "    </tr>\n",
       "    <tr>\n",
       "      <th>30230</th>\n",
       "      <td>GRD CNTRL-42 ST 4567S</td>\n",
       "      <td>06/19/2019</td>\n",
       "      <td>176774.0</td>\n",
       "    </tr>\n",
       "    <tr>\n",
       "      <th>30210</th>\n",
       "      <td>GRD CNTRL-42 ST 4567S</td>\n",
       "      <td>05/30/2019</td>\n",
       "      <td>175321.0</td>\n",
       "    </tr>\n",
       "    <tr>\n",
       "      <th>30141</th>\n",
       "      <td>GRD CNTRL-42 ST 4567S</td>\n",
       "      <td>03/22/2019</td>\n",
       "      <td>173631.0</td>\n",
       "    </tr>\n",
       "    <tr>\n",
       "      <th>30195</th>\n",
       "      <td>GRD CNTRL-42 ST 4567S</td>\n",
       "      <td>05/15/2019</td>\n",
       "      <td>172619.0</td>\n",
       "    </tr>\n",
       "  </tbody>\n",
       "</table>\n",
       "</div>"
      ],
      "text/plain": [
       "                     STATION        DATE  DAILY_ENTRIES\n",
       "39069         PATH NEW WTC 1  06/05/2019       222918.0\n",
       "30230  GRD CNTRL-42 ST 4567S  06/19/2019       176774.0\n",
       "30210  GRD CNTRL-42 ST 4567S  05/30/2019       175321.0\n",
       "30141  GRD CNTRL-42 ST 4567S  03/22/2019       173631.0\n",
       "30195  GRD CNTRL-42 ST 4567S  05/15/2019       172619.0"
      ]
     },
     "execution_count": 267,
     "metadata": {},
     "output_type": "execute_result"
    }
   ],
   "source": [
    "station_daily_top10.head()"
   ]
  },
  {
   "cell_type": "markdown",
   "metadata": {},
   "source": [
    "## Plot top 10"
   ]
  },
  {
   "cell_type": "code",
   "execution_count": 310,
   "metadata": {
    "ExecuteTime": {
     "end_time": "2020-09-27T06:27:15.087439Z",
     "start_time": "2020-09-27T06:27:14.856831Z"
    }
   },
   "outputs": [
    {
     "data": {
      "image/png": "[encoded data removed]",
      "text/plain": [
       "<Figure size 432x288 with 1 Axes>"
      ]
     },
     "metadata": {
      "needs_background": "light"
     },
     "output_type": "display_data"
    }
   ],
   "source": [
    "sns.boxplot(x='DAILY_ENTRIES', y='STATION', \n",
    "        data=station_daily_top10,  order = top10_stations, showfliers = False)\\\n",
    "            .set_title('10 Busiest subway stations',  size=15);"
   ]
  },
  {
   "cell_type": "markdown",
   "metadata": {},
   "source": [
    "### Note: Changing stations to stations + line (see above) changes this fig a bit. Is this what we want?"
   ]
  },
  {
   "cell_type": "markdown",
   "metadata": {},
   "source": [
    "# Challenge 4"
   ]
  },
  {
   "cell_type": "code",
   "execution_count": 269,
   "metadata": {
    "ExecuteTime": {
     "end_time": "2020-09-27T05:48:33.972974Z",
     "start_time": "2020-09-27T05:48:33.960689Z"
    },
    "scrolled": true
   },
   "outputs": [
    {
     "data": {
      "text/html": [
       "<div>\n",
       "<style scoped>\n",
       "    .dataframe tbody tr th:only-of-type {\n",
       "        vertical-align: middle;\n",
       "    }\n",
       "\n",
       "    .dataframe tbody tr th {\n",
       "        vertical-align: top;\n",
       "    }\n",
       "\n",
       "    .dataframe thead th {\n",
       "        text-align: right;\n",
       "    }\n",
       "</style>\n",
       "<table border=\"1\" class=\"dataframe\">\n",
       "  <thead>\n",
       "    <tr style=\"text-align: right;\">\n",
       "      <th></th>\n",
       "      <th>C/A</th>\n",
       "      <th>UNIT</th>\n",
       "      <th>SCP</th>\n",
       "      <th>STATION</th>\n",
       "      <th>DATE</th>\n",
       "      <th>ENTRIES</th>\n",
       "      <th>PREV_DATE</th>\n",
       "      <th>PREV_ENTRIES</th>\n",
       "      <th>DAILY_ENTRIES</th>\n",
       "    </tr>\n",
       "  </thead>\n",
       "  <tbody>\n",
       "    <tr>\n",
       "      <th>1</th>\n",
       "      <td>A002</td>\n",
       "      <td>R051</td>\n",
       "      <td>02-00-00</td>\n",
       "      <td>59 ST NQR456W</td>\n",
       "      <td>03/17/2019</td>\n",
       "      <td>6981564</td>\n",
       "      <td>03/16/2019</td>\n",
       "      <td>6980704.0</td>\n",
       "      <td>860.0</td>\n",
       "    </tr>\n",
       "    <tr>\n",
       "      <th>2</th>\n",
       "      <td>A002</td>\n",
       "      <td>R051</td>\n",
       "      <td>02-00-00</td>\n",
       "      <td>59 ST NQR456W</td>\n",
       "      <td>03/18/2019</td>\n",
       "      <td>6982134</td>\n",
       "      <td>03/17/2019</td>\n",
       "      <td>6981564.0</td>\n",
       "      <td>570.0</td>\n",
       "    </tr>\n",
       "    <tr>\n",
       "      <th>3</th>\n",
       "      <td>A002</td>\n",
       "      <td>R051</td>\n",
       "      <td>02-00-00</td>\n",
       "      <td>59 ST NQR456W</td>\n",
       "      <td>03/19/2019</td>\n",
       "      <td>6983646</td>\n",
       "      <td>03/18/2019</td>\n",
       "      <td>6982134.0</td>\n",
       "      <td>1512.0</td>\n",
       "    </tr>\n",
       "    <tr>\n",
       "      <th>4</th>\n",
       "      <td>A002</td>\n",
       "      <td>R051</td>\n",
       "      <td>02-00-00</td>\n",
       "      <td>59 ST NQR456W</td>\n",
       "      <td>03/20/2019</td>\n",
       "      <td>6985159</td>\n",
       "      <td>03/19/2019</td>\n",
       "      <td>6983646.0</td>\n",
       "      <td>1513.0</td>\n",
       "    </tr>\n",
       "    <tr>\n",
       "      <th>5</th>\n",
       "      <td>A002</td>\n",
       "      <td>R051</td>\n",
       "      <td>02-00-00</td>\n",
       "      <td>59 ST NQR456W</td>\n",
       "      <td>03/21/2019</td>\n",
       "      <td>6986742</td>\n",
       "      <td>03/20/2019</td>\n",
       "      <td>6985159.0</td>\n",
       "      <td>1583.0</td>\n",
       "    </tr>\n",
       "  </tbody>\n",
       "</table>\n",
       "</div>"
      ],
      "text/plain": [
       "    C/A  UNIT       SCP        STATION        DATE  ENTRIES   PREV_DATE  \\\n",
       "1  A002  R051  02-00-00  59 ST NQR456W  03/17/2019  6981564  03/16/2019   \n",
       "2  A002  R051  02-00-00  59 ST NQR456W  03/18/2019  6982134  03/17/2019   \n",
       "3  A002  R051  02-00-00  59 ST NQR456W  03/19/2019  6983646  03/18/2019   \n",
       "4  A002  R051  02-00-00  59 ST NQR456W  03/20/2019  6985159  03/19/2019   \n",
       "5  A002  R051  02-00-00  59 ST NQR456W  03/21/2019  6986742  03/20/2019   \n",
       "\n",
       "   PREV_ENTRIES  DAILY_ENTRIES  \n",
       "1     6980704.0          860.0  \n",
       "2     6981564.0          570.0  \n",
       "3     6982134.0         1512.0  \n",
       "4     6983646.0         1513.0  \n",
       "5     6985159.0         1583.0  "
      ]
     },
     "execution_count": 269,
     "metadata": {},
     "output_type": "execute_result"
    }
   ],
   "source": [
    "mta_daily.head()"
   ]
  },
  {
   "cell_type": "markdown",
   "metadata": {},
   "source": [
    "## Adding turnstile column to daily frame"
   ]
  },
  {
   "cell_type": "code",
   "execution_count": 270,
   "metadata": {
    "ExecuteTime": {
     "end_time": "2020-09-27T05:48:35.037611Z",
     "start_time": "2020-09-27T05:48:34.753616Z"
    },
    "scrolled": true
   },
   "outputs": [
    {
     "data": {
      "text/html": [
       "<div>\n",
       "<style scoped>\n",
       "    .dataframe tbody tr th:only-of-type {\n",
       "        vertical-align: middle;\n",
       "    }\n",
       "\n",
       "    .dataframe tbody tr th {\n",
       "        vertical-align: top;\n",
       "    }\n",
       "\n",
       "    .dataframe thead th {\n",
       "        text-align: right;\n",
       "    }\n",
       "</style>\n",
       "<table border=\"1\" class=\"dataframe\">\n",
       "  <thead>\n",
       "    <tr style=\"text-align: right;\">\n",
       "      <th></th>\n",
       "      <th>C/A</th>\n",
       "      <th>UNIT</th>\n",
       "      <th>SCP</th>\n",
       "      <th>STATION</th>\n",
       "      <th>DATE</th>\n",
       "      <th>ENTRIES</th>\n",
       "      <th>PREV_DATE</th>\n",
       "      <th>PREV_ENTRIES</th>\n",
       "      <th>DAILY_ENTRIES</th>\n",
       "      <th>TURNSTILE</th>\n",
       "    </tr>\n",
       "  </thead>\n",
       "  <tbody>\n",
       "    <tr>\n",
       "      <th>1</th>\n",
       "      <td>A002</td>\n",
       "      <td>R051</td>\n",
       "      <td>02-00-00</td>\n",
       "      <td>59 ST NQR456W</td>\n",
       "      <td>03/17/2019</td>\n",
       "      <td>6981564</td>\n",
       "      <td>03/16/2019</td>\n",
       "      <td>6980704.0</td>\n",
       "      <td>860.0</td>\n",
       "      <td>A002 R051 02-00-00 59 ST NQR456W</td>\n",
       "    </tr>\n",
       "    <tr>\n",
       "      <th>2</th>\n",
       "      <td>A002</td>\n",
       "      <td>R051</td>\n",
       "      <td>02-00-00</td>\n",
       "      <td>59 ST NQR456W</td>\n",
       "      <td>03/18/2019</td>\n",
       "      <td>6982134</td>\n",
       "      <td>03/17/2019</td>\n",
       "      <td>6981564.0</td>\n",
       "      <td>570.0</td>\n",
       "      <td>A002 R051 02-00-00 59 ST NQR456W</td>\n",
       "    </tr>\n",
       "    <tr>\n",
       "      <th>3</th>\n",
       "      <td>A002</td>\n",
       "      <td>R051</td>\n",
       "      <td>02-00-00</td>\n",
       "      <td>59 ST NQR456W</td>\n",
       "      <td>03/19/2019</td>\n",
       "      <td>6983646</td>\n",
       "      <td>03/18/2019</td>\n",
       "      <td>6982134.0</td>\n",
       "      <td>1512.0</td>\n",
       "      <td>A002 R051 02-00-00 59 ST NQR456W</td>\n",
       "    </tr>\n",
       "    <tr>\n",
       "      <th>4</th>\n",
       "      <td>A002</td>\n",
       "      <td>R051</td>\n",
       "      <td>02-00-00</td>\n",
       "      <td>59 ST NQR456W</td>\n",
       "      <td>03/20/2019</td>\n",
       "      <td>6985159</td>\n",
       "      <td>03/19/2019</td>\n",
       "      <td>6983646.0</td>\n",
       "      <td>1513.0</td>\n",
       "      <td>A002 R051 02-00-00 59 ST NQR456W</td>\n",
       "    </tr>\n",
       "    <tr>\n",
       "      <th>5</th>\n",
       "      <td>A002</td>\n",
       "      <td>R051</td>\n",
       "      <td>02-00-00</td>\n",
       "      <td>59 ST NQR456W</td>\n",
       "      <td>03/21/2019</td>\n",
       "      <td>6986742</td>\n",
       "      <td>03/20/2019</td>\n",
       "      <td>6985159.0</td>\n",
       "      <td>1583.0</td>\n",
       "      <td>A002 R051 02-00-00 59 ST NQR456W</td>\n",
       "    </tr>\n",
       "  </tbody>\n",
       "</table>\n",
       "</div>"
      ],
      "text/plain": [
       "    C/A  UNIT       SCP        STATION        DATE  ENTRIES   PREV_DATE  \\\n",
       "1  A002  R051  02-00-00  59 ST NQR456W  03/17/2019  6981564  03/16/2019   \n",
       "2  A002  R051  02-00-00  59 ST NQR456W  03/18/2019  6982134  03/17/2019   \n",
       "3  A002  R051  02-00-00  59 ST NQR456W  03/19/2019  6983646  03/18/2019   \n",
       "4  A002  R051  02-00-00  59 ST NQR456W  03/20/2019  6985159  03/19/2019   \n",
       "5  A002  R051  02-00-00  59 ST NQR456W  03/21/2019  6986742  03/20/2019   \n",
       "\n",
       "   PREV_ENTRIES  DAILY_ENTRIES                         TURNSTILE  \n",
       "1     6980704.0          860.0  A002 R051 02-00-00 59 ST NQR456W  \n",
       "2     6981564.0          570.0  A002 R051 02-00-00 59 ST NQR456W  \n",
       "3     6982134.0         1512.0  A002 R051 02-00-00 59 ST NQR456W  \n",
       "4     6983646.0         1513.0  A002 R051 02-00-00 59 ST NQR456W  \n",
       "5     6985159.0         1583.0  A002 R051 02-00-00 59 ST NQR456W  "
      ]
     },
     "execution_count": 270,
     "metadata": {},
     "output_type": "execute_result"
    }
   ],
   "source": [
    "mta_daily['TURNSTILE'] = mta_daily['C/A'] + ' ' + mta_daily['UNIT'] + ' ' + mta_daily['SCP'] + ' ' + mta_daily['STATION']\n",
    "\n",
    "mta_daily.head()"
   ]
  },
  {
   "cell_type": "code",
   "execution_count": 271,
   "metadata": {
    "ExecuteTime": {
     "end_time": "2020-09-27T05:48:35.397663Z",
     "start_time": "2020-09-27T05:48:35.337148Z"
    },
    "scrolled": true
   },
   "outputs": [
    {
     "data": {
      "text/plain": [
       "N701 R571 00-05-01 86 ST-2 AVE Q         97\n",
       "R617 R058 00-00-02 BERGEN ST 23          97\n",
       "R135 R031 01-00-02 34 ST-PENN STA 123    97\n",
       "N067 R012 00-00-04 34 ST-PENN STA ACE    97\n",
       "R551 R072 01-03-00 34 ST-HUDSON YD 7     97\n",
       "                                         ..\n",
       "N071 R013 00-03-02 34 ST-PENN STA ACE     1\n",
       "N071 R013 00-03-00 34 ST-PENN STA ACE     1\n",
       "N071 R013 00-05-01 34 ST-PENN STA ACE     1\n",
       "N071 R013 00-03-04 34 ST-PENN STA ACE     1\n",
       "PTH02 R544 00-00-08 HARRISON 1            1\n",
       "Name: TURNSTILE, Length: 4907, dtype: int64"
      ]
     },
     "execution_count": 271,
     "metadata": {},
     "output_type": "execute_result"
    }
   ],
   "source": [
    "mta_daily['TURNSTILE'].value_counts()"
   ]
  },
  {
   "cell_type": "markdown",
   "metadata": {},
   "source": [
    "## Examining a single turnstile"
   ]
  },
  {
   "cell_type": "code",
   "execution_count": 272,
   "metadata": {
    "ExecuteTime": {
     "end_time": "2020-09-27T05:48:40.149617Z",
     "start_time": "2020-09-27T05:48:40.056878Z"
    },
    "scrolled": true
   },
   "outputs": [
    {
     "data": {
      "text/html": [
       "<div>\n",
       "<style scoped>\n",
       "    .dataframe tbody tr th:only-of-type {\n",
       "        vertical-align: middle;\n",
       "    }\n",
       "\n",
       "    .dataframe tbody tr th {\n",
       "        vertical-align: top;\n",
       "    }\n",
       "\n",
       "    .dataframe thead th {\n",
       "        text-align: right;\n",
       "    }\n",
       "</style>\n",
       "<table border=\"1\" class=\"dataframe\">\n",
       "  <thead>\n",
       "    <tr style=\"text-align: right;\">\n",
       "      <th></th>\n",
       "      <th>C/A</th>\n",
       "      <th>UNIT</th>\n",
       "      <th>SCP</th>\n",
       "      <th>STATION</th>\n",
       "      <th>DATE</th>\n",
       "      <th>ENTRIES</th>\n",
       "      <th>PREV_DATE</th>\n",
       "      <th>PREV_ENTRIES</th>\n",
       "      <th>DAILY_ENTRIES</th>\n",
       "      <th>TURNSTILE</th>\n",
       "    </tr>\n",
       "  </thead>\n",
       "  <tbody>\n",
       "    <tr>\n",
       "      <th>1</th>\n",
       "      <td>A002</td>\n",
       "      <td>R051</td>\n",
       "      <td>02-00-00</td>\n",
       "      <td>59 ST NQR456W</td>\n",
       "      <td>03/17/2019</td>\n",
       "      <td>6981564</td>\n",
       "      <td>03/16/2019</td>\n",
       "      <td>6980704.0</td>\n",
       "      <td>860.0</td>\n",
       "      <td>A002 R051 02-00-00 59 ST NQR456W</td>\n",
       "    </tr>\n",
       "    <tr>\n",
       "      <th>2</th>\n",
       "      <td>A002</td>\n",
       "      <td>R051</td>\n",
       "      <td>02-00-00</td>\n",
       "      <td>59 ST NQR456W</td>\n",
       "      <td>03/18/2019</td>\n",
       "      <td>6982134</td>\n",
       "      <td>03/17/2019</td>\n",
       "      <td>6981564.0</td>\n",
       "      <td>570.0</td>\n",
       "      <td>A002 R051 02-00-00 59 ST NQR456W</td>\n",
       "    </tr>\n",
       "    <tr>\n",
       "      <th>3</th>\n",
       "      <td>A002</td>\n",
       "      <td>R051</td>\n",
       "      <td>02-00-00</td>\n",
       "      <td>59 ST NQR456W</td>\n",
       "      <td>03/19/2019</td>\n",
       "      <td>6983646</td>\n",
       "      <td>03/18/2019</td>\n",
       "      <td>6982134.0</td>\n",
       "      <td>1512.0</td>\n",
       "      <td>A002 R051 02-00-00 59 ST NQR456W</td>\n",
       "    </tr>\n",
       "    <tr>\n",
       "      <th>4</th>\n",
       "      <td>A002</td>\n",
       "      <td>R051</td>\n",
       "      <td>02-00-00</td>\n",
       "      <td>59 ST NQR456W</td>\n",
       "      <td>03/20/2019</td>\n",
       "      <td>6985159</td>\n",
       "      <td>03/19/2019</td>\n",
       "      <td>6983646.0</td>\n",
       "      <td>1513.0</td>\n",
       "      <td>A002 R051 02-00-00 59 ST NQR456W</td>\n",
       "    </tr>\n",
       "    <tr>\n",
       "      <th>5</th>\n",
       "      <td>A002</td>\n",
       "      <td>R051</td>\n",
       "      <td>02-00-00</td>\n",
       "      <td>59 ST NQR456W</td>\n",
       "      <td>03/21/2019</td>\n",
       "      <td>6986742</td>\n",
       "      <td>03/20/2019</td>\n",
       "      <td>6985159.0</td>\n",
       "      <td>1583.0</td>\n",
       "      <td>A002 R051 02-00-00 59 ST NQR456W</td>\n",
       "    </tr>\n",
       "  </tbody>\n",
       "</table>\n",
       "</div>"
      ],
      "text/plain": [
       "    C/A  UNIT       SCP        STATION        DATE  ENTRIES   PREV_DATE  \\\n",
       "1  A002  R051  02-00-00  59 ST NQR456W  03/17/2019  6981564  03/16/2019   \n",
       "2  A002  R051  02-00-00  59 ST NQR456W  03/18/2019  6982134  03/17/2019   \n",
       "3  A002  R051  02-00-00  59 ST NQR456W  03/19/2019  6983646  03/18/2019   \n",
       "4  A002  R051  02-00-00  59 ST NQR456W  03/20/2019  6985159  03/19/2019   \n",
       "5  A002  R051  02-00-00  59 ST NQR456W  03/21/2019  6986742  03/20/2019   \n",
       "\n",
       "   PREV_ENTRIES  DAILY_ENTRIES                         TURNSTILE  \n",
       "1     6980704.0          860.0  A002 R051 02-00-00 59 ST NQR456W  \n",
       "2     6981564.0          570.0  A002 R051 02-00-00 59 ST NQR456W  \n",
       "3     6982134.0         1512.0  A002 R051 02-00-00 59 ST NQR456W  \n",
       "4     6983646.0         1513.0  A002 R051 02-00-00 59 ST NQR456W  \n",
       "5     6985159.0         1583.0  A002 R051 02-00-00 59 ST NQR456W  "
      ]
     },
     "execution_count": 272,
     "metadata": {},
     "output_type": "execute_result"
    }
   ],
   "source": [
    "# Getting a single turnstile\n",
    "\n",
    "mask = mta_daily['TURNSTILE'] == 'A002 R051 02-00-00 59 ST NQR456W' # does not work with station names being station+line\n",
    "\n",
    "# mask = mta_daily['TURNSTILE']=='R116 R030 00-06-00 CHAMBERS ST  123'  # use this if organizing by station+line\n",
    "\n",
    "one_turn = mta_daily[mask]\n",
    "\n",
    "one_turn.head()"
   ]
  },
  {
   "cell_type": "markdown",
   "metadata": {},
   "source": [
    "## Examining a single turnstile for a single day"
   ]
  },
  {
   "cell_type": "code",
   "execution_count": 273,
   "metadata": {
    "ExecuteTime": {
     "end_time": "2020-09-27T05:48:41.237294Z",
     "start_time": "2020-09-27T05:48:41.224819Z"
    }
   },
   "outputs": [
    {
     "data": {
      "text/html": [
       "<div>\n",
       "<style scoped>\n",
       "    .dataframe tbody tr th:only-of-type {\n",
       "        vertical-align: middle;\n",
       "    }\n",
       "\n",
       "    .dataframe tbody tr th {\n",
       "        vertical-align: top;\n",
       "    }\n",
       "\n",
       "    .dataframe thead th {\n",
       "        text-align: right;\n",
       "    }\n",
       "</style>\n",
       "<table border=\"1\" class=\"dataframe\">\n",
       "  <thead>\n",
       "    <tr style=\"text-align: right;\">\n",
       "      <th></th>\n",
       "      <th>TURNSTILE</th>\n",
       "      <th>DATE</th>\n",
       "      <th>DAILY_ENTRIES</th>\n",
       "    </tr>\n",
       "  </thead>\n",
       "  <tbody>\n",
       "    <tr>\n",
       "      <th>0</th>\n",
       "      <td>A002 R051 02-00-00 59 ST NQR456W</td>\n",
       "      <td>03/17/2019</td>\n",
       "      <td>860.0</td>\n",
       "    </tr>\n",
       "    <tr>\n",
       "      <th>1</th>\n",
       "      <td>A002 R051 02-00-00 59 ST NQR456W</td>\n",
       "      <td>03/18/2019</td>\n",
       "      <td>570.0</td>\n",
       "    </tr>\n",
       "    <tr>\n",
       "      <th>2</th>\n",
       "      <td>A002 R051 02-00-00 59 ST NQR456W</td>\n",
       "      <td>03/19/2019</td>\n",
       "      <td>1512.0</td>\n",
       "    </tr>\n",
       "    <tr>\n",
       "      <th>3</th>\n",
       "      <td>A002 R051 02-00-00 59 ST NQR456W</td>\n",
       "      <td>03/20/2019</td>\n",
       "      <td>1513.0</td>\n",
       "    </tr>\n",
       "    <tr>\n",
       "      <th>4</th>\n",
       "      <td>A002 R051 02-00-00 59 ST NQR456W</td>\n",
       "      <td>03/21/2019</td>\n",
       "      <td>1583.0</td>\n",
       "    </tr>\n",
       "  </tbody>\n",
       "</table>\n",
       "</div>"
      ],
      "text/plain": [
       "                          TURNSTILE        DATE  DAILY_ENTRIES\n",
       "0  A002 R051 02-00-00 59 ST NQR456W  03/17/2019          860.0\n",
       "1  A002 R051 02-00-00 59 ST NQR456W  03/18/2019          570.0\n",
       "2  A002 R051 02-00-00 59 ST NQR456W  03/19/2019         1512.0\n",
       "3  A002 R051 02-00-00 59 ST NQR456W  03/20/2019         1513.0\n",
       "4  A002 R051 02-00-00 59 ST NQR456W  03/21/2019         1583.0"
      ]
     },
     "execution_count": 273,
     "metadata": {},
     "output_type": "execute_result"
    }
   ],
   "source": [
    "# Making new grouped frame by day\n",
    "\n",
    "one_turn_daily = one_turn.groupby(['TURNSTILE', 'DATE'])['DAILY_ENTRIES'].sum().reset_index()\n",
    "\n",
    "# one_turn_daily = one_turn.groupby(['TURNSTILE', 'DATE'])['DAILY_ENTRIES'].sum().reset_index()\n",
    "\n",
    "\n",
    "one_turn_daily.head()"
   ]
  },
  {
   "cell_type": "markdown",
   "metadata": {},
   "source": [
    "## Plotting one turnstile by day for 50 days"
   ]
  },
  {
   "cell_type": "code",
   "execution_count": 303,
   "metadata": {
    "ExecuteTime": {
     "end_time": "2020-09-27T06:25:52.975110Z",
     "start_time": "2020-09-27T06:25:52.504020Z"
    },
    "scrolled": true
   },
   "outputs": [
    {
     "data": {
      "image/png": "[encoded data removed]",
      "text/plain": [
       "<Figure size 1080x216 with 1 Axes>"
      ]
     },
     "metadata": {
      "needs_background": "light"
     },
     "output_type": "display_data"
    }
   ],
   "source": [
    "# one turnstile, by day, for 50 days\n",
    "\n",
    "x = one_turn_daily['DATE'][:50]\n",
    "y = one_turn_daily['DAILY_ENTRIES'][:50]\n",
    "\n",
    "plt.figure(figsize=(15,3))\n",
    "plt.plot(x, y)\n",
    "plt.grid()\n",
    "plt.xlabel('Date', size = 12)\n",
    "plt.ylabel('Entries')\n",
    "plt.xticks(rotation=45)\n",
    "plt.title('Entries at {} turnstile'.format('\"A002 R051 02-00-00 59 ST\"'), size=15);\n"
   ]
  },
  {
   "cell_type": "markdown",
   "metadata": {},
   "source": [
    "# Challenge 5"
   ]
  },
  {
   "cell_type": "markdown",
   "metadata": {},
   "source": [
    "## Grouping by ControlArea/UNIT/STATION combo"
   ]
  },
  {
   "cell_type": "code",
   "execution_count": 275,
   "metadata": {
    "ExecuteTime": {
     "end_time": "2020-09-27T05:48:44.465162Z",
     "start_time": "2020-09-27T05:48:44.290492Z"
    }
   },
   "outputs": [
    {
     "data": {
      "text/html": [
       "<div>\n",
       "<style scoped>\n",
       "    .dataframe tbody tr th:only-of-type {\n",
       "        vertical-align: middle;\n",
       "    }\n",
       "\n",
       "    .dataframe tbody tr th {\n",
       "        vertical-align: top;\n",
       "    }\n",
       "\n",
       "    .dataframe thead th {\n",
       "        text-align: right;\n",
       "    }\n",
       "</style>\n",
       "<table border=\"1\" class=\"dataframe\">\n",
       "  <thead>\n",
       "    <tr style=\"text-align: right;\">\n",
       "      <th></th>\n",
       "      <th>C/A</th>\n",
       "      <th>UNIT</th>\n",
       "      <th>STATION</th>\n",
       "      <th>DATE</th>\n",
       "      <th>ENTRIES</th>\n",
       "      <th>PREV_ENTRIES</th>\n",
       "      <th>DAILY_ENTRIES</th>\n",
       "    </tr>\n",
       "  </thead>\n",
       "  <tbody>\n",
       "    <tr>\n",
       "      <th>0</th>\n",
       "      <td>A002</td>\n",
       "      <td>R051</td>\n",
       "      <td>59 ST NQR456W</td>\n",
       "      <td>03/17/2019</td>\n",
       "      <td>54628927</td>\n",
       "      <td>54621134.0</td>\n",
       "      <td>7793.0</td>\n",
       "    </tr>\n",
       "    <tr>\n",
       "      <th>1</th>\n",
       "      <td>A002</td>\n",
       "      <td>R051</td>\n",
       "      <td>59 ST NQR456W</td>\n",
       "      <td>03/18/2019</td>\n",
       "      <td>54634897</td>\n",
       "      <td>54628927.0</td>\n",
       "      <td>5970.0</td>\n",
       "    </tr>\n",
       "    <tr>\n",
       "      <th>2</th>\n",
       "      <td>A002</td>\n",
       "      <td>R051</td>\n",
       "      <td>59 ST NQR456W</td>\n",
       "      <td>03/19/2019</td>\n",
       "      <td>54647660</td>\n",
       "      <td>54634897.0</td>\n",
       "      <td>12763.0</td>\n",
       "    </tr>\n",
       "    <tr>\n",
       "      <th>3</th>\n",
       "      <td>A002</td>\n",
       "      <td>R051</td>\n",
       "      <td>59 ST NQR456W</td>\n",
       "      <td>03/20/2019</td>\n",
       "      <td>54660981</td>\n",
       "      <td>54647660.0</td>\n",
       "      <td>13321.0</td>\n",
       "    </tr>\n",
       "    <tr>\n",
       "      <th>4</th>\n",
       "      <td>A002</td>\n",
       "      <td>R051</td>\n",
       "      <td>59 ST NQR456W</td>\n",
       "      <td>03/21/2019</td>\n",
       "      <td>54674499</td>\n",
       "      <td>54660981.0</td>\n",
       "      <td>13518.0</td>\n",
       "    </tr>\n",
       "  </tbody>\n",
       "</table>\n",
       "</div>"
      ],
      "text/plain": [
       "    C/A  UNIT        STATION        DATE   ENTRIES  PREV_ENTRIES  \\\n",
       "0  A002  R051  59 ST NQR456W  03/17/2019  54628927    54621134.0   \n",
       "1  A002  R051  59 ST NQR456W  03/18/2019  54634897    54628927.0   \n",
       "2  A002  R051  59 ST NQR456W  03/19/2019  54647660    54634897.0   \n",
       "3  A002  R051  59 ST NQR456W  03/20/2019  54660981    54647660.0   \n",
       "4  A002  R051  59 ST NQR456W  03/21/2019  54674499    54660981.0   \n",
       "\n",
       "   DAILY_ENTRIES  \n",
       "0         7793.0  \n",
       "1         5970.0  \n",
       "2        12763.0  \n",
       "3        13321.0  \n",
       "4        13518.0  "
      ]
     },
     "execution_count": 275,
     "metadata": {},
     "output_type": "execute_result"
    }
   ],
   "source": [
    "# turnstiles_daily.head()\n",
    "\n",
    "# CA_U_S = turnstiles_daily.groupby(['C/A', 'UNIT', 'STATION', 'DATE']).sum()\n",
    "\n",
    "CA_U_S = mta_daily.groupby(['C/A', 'UNIT', 'STATION', 'DATE'], as_index = False).sum()\n",
    "\n",
    "CA_U_S.head()"
   ]
  },
  {
   "cell_type": "markdown",
   "metadata": {},
   "source": [
    "# Challenge 6"
   ]
  },
  {
   "cell_type": "markdown",
   "metadata": {},
   "source": [
    "## Grouping by station"
   ]
  },
  {
   "cell_type": "code",
   "execution_count": 276,
   "metadata": {
    "ExecuteTime": {
     "end_time": "2020-09-27T05:48:46.202070Z",
     "start_time": "2020-09-27T05:48:46.080749Z"
    }
   },
   "outputs": [
    {
     "data": {
      "text/html": [
       "<div>\n",
       "<style scoped>\n",
       "    .dataframe tbody tr th:only-of-type {\n",
       "        vertical-align: middle;\n",
       "    }\n",
       "\n",
       "    .dataframe tbody tr th {\n",
       "        vertical-align: top;\n",
       "    }\n",
       "\n",
       "    .dataframe thead th {\n",
       "        text-align: right;\n",
       "    }\n",
       "</style>\n",
       "<table border=\"1\" class=\"dataframe\">\n",
       "  <thead>\n",
       "    <tr style=\"text-align: right;\">\n",
       "      <th></th>\n",
       "      <th>STATION</th>\n",
       "      <th>DATE</th>\n",
       "      <th>ENTRIES</th>\n",
       "      <th>PREV_ENTRIES</th>\n",
       "      <th>DAILY_ENTRIES</th>\n",
       "    </tr>\n",
       "  </thead>\n",
       "  <tbody>\n",
       "    <tr>\n",
       "      <th>0</th>\n",
       "      <td>1 AV L</td>\n",
       "      <td>03/17/2019</td>\n",
       "      <td>1412586439</td>\n",
       "      <td>1.412586e+09</td>\n",
       "      <td>5.0</td>\n",
       "    </tr>\n",
       "    <tr>\n",
       "      <th>1</th>\n",
       "      <td>1 AV L</td>\n",
       "      <td>03/18/2019</td>\n",
       "      <td>1412586441</td>\n",
       "      <td>1.412586e+09</td>\n",
       "      <td>2.0</td>\n",
       "    </tr>\n",
       "    <tr>\n",
       "      <th>2</th>\n",
       "      <td>1 AV L</td>\n",
       "      <td>03/19/2019</td>\n",
       "      <td>1412604914</td>\n",
       "      <td>1.412586e+09</td>\n",
       "      <td>18473.0</td>\n",
       "    </tr>\n",
       "    <tr>\n",
       "      <th>3</th>\n",
       "      <td>1 AV L</td>\n",
       "      <td>03/20/2019</td>\n",
       "      <td>1412624910</td>\n",
       "      <td>1.412605e+09</td>\n",
       "      <td>19996.0</td>\n",
       "    </tr>\n",
       "    <tr>\n",
       "      <th>4</th>\n",
       "      <td>1 AV L</td>\n",
       "      <td>03/21/2019</td>\n",
       "      <td>1412644937</td>\n",
       "      <td>1.412625e+09</td>\n",
       "      <td>20027.0</td>\n",
       "    </tr>\n",
       "  </tbody>\n",
       "</table>\n",
       "</div>"
      ],
      "text/plain": [
       "  STATION        DATE     ENTRIES  PREV_ENTRIES  DAILY_ENTRIES\n",
       "0  1 AV L  03/17/2019  1412586439  1.412586e+09            5.0\n",
       "1  1 AV L  03/18/2019  1412586441  1.412586e+09            2.0\n",
       "2  1 AV L  03/19/2019  1412604914  1.412586e+09        18473.0\n",
       "3  1 AV L  03/20/2019  1412624910  1.412605e+09        19996.0\n",
       "4  1 AV L  03/21/2019  1412644937  1.412625e+09        20027.0"
      ]
     },
     "execution_count": 276,
     "metadata": {},
     "output_type": "execute_result"
    }
   ],
   "source": [
    "# stations_daily = turnstiles_daily.groupby(['STATION', 'DATE']).sum()\n",
    "\n",
    "stations_grouped_df = mta_daily.groupby(['STATION', 'DATE'], as_index = False).sum()\n",
    "\n",
    "stations_grouped_df.head()"
   ]
  },
  {
   "cell_type": "code",
   "execution_count": 277,
   "metadata": {
    "ExecuteTime": {
     "end_time": "2020-09-27T05:48:47.202933Z",
     "start_time": "2020-09-27T05:48:47.192884Z"
    }
   },
   "outputs": [
    {
     "data": {
      "text/plain": [
       "168 ST 1AC                  97\n",
       "BRONX PARK EAST 25          97\n",
       "E 143/ST MARY'S 6           97\n",
       "KEW GARDENS EF              97\n",
       "34 ST-HERALD SQ BDFMNQRW    97\n",
       "                            ..\n",
       "5 AVE 7BDFM                 92\n",
       "135 ST 23                   91\n",
       "ORCHARD BEACH 6             31\n",
       "111 ST J                    13\n",
       "ASTORIA BLVD NQW             2\n",
       "Name: STATION, Length: 479, dtype: int64"
      ]
     },
     "execution_count": 277,
     "metadata": {},
     "output_type": "execute_result"
    }
   ],
   "source": [
    "stations_grouped_df['STATION'].value_counts()"
   ]
  },
  {
   "cell_type": "markdown",
   "metadata": {},
   "source": [
    "# Challenge 7"
   ]
  },
  {
   "cell_type": "markdown",
   "metadata": {},
   "source": [
    "## Extracting a single station"
   ]
  },
  {
   "cell_type": "code",
   "execution_count": 278,
   "metadata": {
    "ExecuteTime": {
     "end_time": "2020-09-27T05:48:48.814835Z",
     "start_time": "2020-09-27T05:48:48.800966Z"
    },
    "scrolled": true
   },
   "outputs": [
    {
     "data": {
      "text/html": [
       "<div>\n",
       "<style scoped>\n",
       "    .dataframe tbody tr th:only-of-type {\n",
       "        vertical-align: middle;\n",
       "    }\n",
       "\n",
       "    .dataframe tbody tr th {\n",
       "        vertical-align: top;\n",
       "    }\n",
       "\n",
       "    .dataframe thead th {\n",
       "        text-align: right;\n",
       "    }\n",
       "</style>\n",
       "<table border=\"1\" class=\"dataframe\">\n",
       "  <thead>\n",
       "    <tr style=\"text-align: right;\">\n",
       "      <th></th>\n",
       "      <th>STATION</th>\n",
       "      <th>DATE</th>\n",
       "      <th>ENTRIES</th>\n",
       "      <th>PREV_ENTRIES</th>\n",
       "      <th>DAILY_ENTRIES</th>\n",
       "    </tr>\n",
       "  </thead>\n",
       "  <tbody>\n",
       "    <tr>\n",
       "      <th>0</th>\n",
       "      <td>1 AV L</td>\n",
       "      <td>03/17/2019</td>\n",
       "      <td>1412586439</td>\n",
       "      <td>1.412586e+09</td>\n",
       "      <td>5.0</td>\n",
       "    </tr>\n",
       "    <tr>\n",
       "      <th>1</th>\n",
       "      <td>1 AV L</td>\n",
       "      <td>03/18/2019</td>\n",
       "      <td>1412586441</td>\n",
       "      <td>1.412586e+09</td>\n",
       "      <td>2.0</td>\n",
       "    </tr>\n",
       "    <tr>\n",
       "      <th>2</th>\n",
       "      <td>1 AV L</td>\n",
       "      <td>03/19/2019</td>\n",
       "      <td>1412604914</td>\n",
       "      <td>1.412586e+09</td>\n",
       "      <td>18473.0</td>\n",
       "    </tr>\n",
       "    <tr>\n",
       "      <th>3</th>\n",
       "      <td>1 AV L</td>\n",
       "      <td>03/20/2019</td>\n",
       "      <td>1412624910</td>\n",
       "      <td>1.412605e+09</td>\n",
       "      <td>19996.0</td>\n",
       "    </tr>\n",
       "    <tr>\n",
       "      <th>4</th>\n",
       "      <td>1 AV L</td>\n",
       "      <td>03/21/2019</td>\n",
       "      <td>1412644937</td>\n",
       "      <td>1.412625e+09</td>\n",
       "      <td>20027.0</td>\n",
       "    </tr>\n",
       "  </tbody>\n",
       "</table>\n",
       "</div>"
      ],
      "text/plain": [
       "  STATION        DATE     ENTRIES  PREV_ENTRIES  DAILY_ENTRIES\n",
       "0  1 AV L  03/17/2019  1412586439  1.412586e+09            5.0\n",
       "1  1 AV L  03/18/2019  1412586441  1.412586e+09            2.0\n",
       "2  1 AV L  03/19/2019  1412604914  1.412586e+09        18473.0\n",
       "3  1 AV L  03/20/2019  1412624910  1.412605e+09        19996.0\n",
       "4  1 AV L  03/21/2019  1412644937  1.412625e+09        20027.0"
      ]
     },
     "execution_count": 278,
     "metadata": {},
     "output_type": "execute_result"
    }
   ],
   "source": [
    "# mask = stations_grouped_df['STATION'] == '86 ST  R'  # Use this if station = station+line above\n",
    "\n",
    "mask = stations_grouped_df['STATION'] == '1 AV L'\n",
    "\n",
    "one_station = stations_grouped_df[mask]\n",
    "\n",
    "one_station.head()"
   ]
  },
  {
   "cell_type": "markdown",
   "metadata": {},
   "source": [
    "## Plotting daily entries for one station"
   ]
  },
  {
   "cell_type": "code",
   "execution_count": 279,
   "metadata": {
    "ExecuteTime": {
     "end_time": "2020-09-27T05:48:50.496891Z",
     "start_time": "2020-09-27T05:48:50.049291Z"
    }
   },
   "outputs": [
    {
     "data": {
      "image/png": "[encoded data removed]",
      "text/plain": [
       "<Figure size 1080x216 with 1 Axes>"
      ]
     },
     "metadata": {
      "needs_background": "light"
     },
     "output_type": "display_data"
    }
   ],
   "source": [
    "x = one_station['DATE'][:50]\n",
    "y = one_station['DAILY_ENTRIES'][:50]\n",
    "\n",
    "plt.figure(figsize=(15,3))\n",
    "plt.grid()\n",
    "plt.plot(x,y)\n",
    "plt.xlabel('Date')\n",
    "plt.ylabel('Daily entries')\n",
    "# plt.title('Daily entries at \"86 ST  R\" Station over 50 days', size=15) # Use this if station = station+line above\n",
    "plt.title('Daily entries at \"1 AV\" Station over 50 days', size=15)\n",
    "\n",
    "plt.xticks(rotation=45);"
   ]
  },
  {
   "cell_type": "markdown",
   "metadata": {},
   "source": [
    "# Challenge 8"
   ]
  },
  {
   "cell_type": "code",
   "execution_count": 280,
   "metadata": {
    "ExecuteTime": {
     "end_time": "2020-09-27T05:48:52.653738Z",
     "start_time": "2020-09-27T05:48:52.640952Z"
    },
    "scrolled": true
   },
   "outputs": [
    {
     "data": {
      "text/html": [
       "<div>\n",
       "<style scoped>\n",
       "    .dataframe tbody tr th:only-of-type {\n",
       "        vertical-align: middle;\n",
       "    }\n",
       "\n",
       "    .dataframe tbody tr th {\n",
       "        vertical-align: top;\n",
       "    }\n",
       "\n",
       "    .dataframe thead th {\n",
       "        text-align: right;\n",
       "    }\n",
       "</style>\n",
       "<table border=\"1\" class=\"dataframe\">\n",
       "  <thead>\n",
       "    <tr style=\"text-align: right;\">\n",
       "      <th></th>\n",
       "      <th>C/A</th>\n",
       "      <th>UNIT</th>\n",
       "      <th>SCP</th>\n",
       "      <th>STATION</th>\n",
       "      <th>DATE</th>\n",
       "      <th>ENTRIES</th>\n",
       "      <th>PREV_DATE</th>\n",
       "      <th>PREV_ENTRIES</th>\n",
       "      <th>DAILY_ENTRIES</th>\n",
       "      <th>TURNSTILE</th>\n",
       "    </tr>\n",
       "  </thead>\n",
       "  <tbody>\n",
       "    <tr>\n",
       "      <th>1</th>\n",
       "      <td>A002</td>\n",
       "      <td>R051</td>\n",
       "      <td>02-00-00</td>\n",
       "      <td>59 ST NQR456W</td>\n",
       "      <td>03/17/2019</td>\n",
       "      <td>6981564</td>\n",
       "      <td>03/16/2019</td>\n",
       "      <td>6980704.0</td>\n",
       "      <td>860.0</td>\n",
       "      <td>A002 R051 02-00-00 59 ST NQR456W</td>\n",
       "    </tr>\n",
       "    <tr>\n",
       "      <th>2</th>\n",
       "      <td>A002</td>\n",
       "      <td>R051</td>\n",
       "      <td>02-00-00</td>\n",
       "      <td>59 ST NQR456W</td>\n",
       "      <td>03/18/2019</td>\n",
       "      <td>6982134</td>\n",
       "      <td>03/17/2019</td>\n",
       "      <td>6981564.0</td>\n",
       "      <td>570.0</td>\n",
       "      <td>A002 R051 02-00-00 59 ST NQR456W</td>\n",
       "    </tr>\n",
       "    <tr>\n",
       "      <th>3</th>\n",
       "      <td>A002</td>\n",
       "      <td>R051</td>\n",
       "      <td>02-00-00</td>\n",
       "      <td>59 ST NQR456W</td>\n",
       "      <td>03/19/2019</td>\n",
       "      <td>6983646</td>\n",
       "      <td>03/18/2019</td>\n",
       "      <td>6982134.0</td>\n",
       "      <td>1512.0</td>\n",
       "      <td>A002 R051 02-00-00 59 ST NQR456W</td>\n",
       "    </tr>\n",
       "    <tr>\n",
       "      <th>4</th>\n",
       "      <td>A002</td>\n",
       "      <td>R051</td>\n",
       "      <td>02-00-00</td>\n",
       "      <td>59 ST NQR456W</td>\n",
       "      <td>03/20/2019</td>\n",
       "      <td>6985159</td>\n",
       "      <td>03/19/2019</td>\n",
       "      <td>6983646.0</td>\n",
       "      <td>1513.0</td>\n",
       "      <td>A002 R051 02-00-00 59 ST NQR456W</td>\n",
       "    </tr>\n",
       "    <tr>\n",
       "      <th>5</th>\n",
       "      <td>A002</td>\n",
       "      <td>R051</td>\n",
       "      <td>02-00-00</td>\n",
       "      <td>59 ST NQR456W</td>\n",
       "      <td>03/21/2019</td>\n",
       "      <td>6986742</td>\n",
       "      <td>03/20/2019</td>\n",
       "      <td>6985159.0</td>\n",
       "      <td>1583.0</td>\n",
       "      <td>A002 R051 02-00-00 59 ST NQR456W</td>\n",
       "    </tr>\n",
       "  </tbody>\n",
       "</table>\n",
       "</div>"
      ],
      "text/plain": [
       "    C/A  UNIT       SCP        STATION        DATE  ENTRIES   PREV_DATE  \\\n",
       "1  A002  R051  02-00-00  59 ST NQR456W  03/17/2019  6981564  03/16/2019   \n",
       "2  A002  R051  02-00-00  59 ST NQR456W  03/18/2019  6982134  03/17/2019   \n",
       "3  A002  R051  02-00-00  59 ST NQR456W  03/19/2019  6983646  03/18/2019   \n",
       "4  A002  R051  02-00-00  59 ST NQR456W  03/20/2019  6985159  03/19/2019   \n",
       "5  A002  R051  02-00-00  59 ST NQR456W  03/21/2019  6986742  03/20/2019   \n",
       "\n",
       "   PREV_ENTRIES  DAILY_ENTRIES                         TURNSTILE  \n",
       "1     6980704.0          860.0  A002 R051 02-00-00 59 ST NQR456W  \n",
       "2     6981564.0          570.0  A002 R051 02-00-00 59 ST NQR456W  \n",
       "3     6982134.0         1512.0  A002 R051 02-00-00 59 ST NQR456W  \n",
       "4     6983646.0         1513.0  A002 R051 02-00-00 59 ST NQR456W  \n",
       "5     6985159.0         1583.0  A002 R051 02-00-00 59 ST NQR456W  "
      ]
     },
     "execution_count": 280,
     "metadata": {},
     "output_type": "execute_result"
    }
   ],
   "source": [
    "mta_daily.head()"
   ]
  },
  {
   "cell_type": "markdown",
   "metadata": {},
   "source": [
    "## Adding weekday column to mta_daily"
   ]
  },
  {
   "cell_type": "code",
   "execution_count": 281,
   "metadata": {
    "ExecuteTime": {
     "end_time": "2020-09-27T05:48:53.972515Z",
     "start_time": "2020-09-27T05:48:53.896682Z"
    }
   },
   "outputs": [
    {
     "data": {
      "text/html": [
       "<div>\n",
       "<style scoped>\n",
       "    .dataframe tbody tr th:only-of-type {\n",
       "        vertical-align: middle;\n",
       "    }\n",
       "\n",
       "    .dataframe tbody tr th {\n",
       "        vertical-align: top;\n",
       "    }\n",
       "\n",
       "    .dataframe thead th {\n",
       "        text-align: right;\n",
       "    }\n",
       "</style>\n",
       "<table border=\"1\" class=\"dataframe\">\n",
       "  <thead>\n",
       "    <tr style=\"text-align: right;\">\n",
       "      <th></th>\n",
       "      <th>C/A</th>\n",
       "      <th>UNIT</th>\n",
       "      <th>SCP</th>\n",
       "      <th>STATION</th>\n",
       "      <th>DATE</th>\n",
       "      <th>ENTRIES</th>\n",
       "      <th>PREV_DATE</th>\n",
       "      <th>PREV_ENTRIES</th>\n",
       "      <th>DAILY_ENTRIES</th>\n",
       "      <th>TURNSTILE</th>\n",
       "      <th>WEEK_DAY</th>\n",
       "    </tr>\n",
       "  </thead>\n",
       "  <tbody>\n",
       "    <tr>\n",
       "      <th>1</th>\n",
       "      <td>A002</td>\n",
       "      <td>R051</td>\n",
       "      <td>02-00-00</td>\n",
       "      <td>59 ST NQR456W</td>\n",
       "      <td>03/17/2019</td>\n",
       "      <td>6981564</td>\n",
       "      <td>03/16/2019</td>\n",
       "      <td>6980704.0</td>\n",
       "      <td>860.0</td>\n",
       "      <td>A002 R051 02-00-00 59 ST NQR456W</td>\n",
       "      <td>6</td>\n",
       "    </tr>\n",
       "    <tr>\n",
       "      <th>2</th>\n",
       "      <td>A002</td>\n",
       "      <td>R051</td>\n",
       "      <td>02-00-00</td>\n",
       "      <td>59 ST NQR456W</td>\n",
       "      <td>03/18/2019</td>\n",
       "      <td>6982134</td>\n",
       "      <td>03/17/2019</td>\n",
       "      <td>6981564.0</td>\n",
       "      <td>570.0</td>\n",
       "      <td>A002 R051 02-00-00 59 ST NQR456W</td>\n",
       "      <td>0</td>\n",
       "    </tr>\n",
       "    <tr>\n",
       "      <th>3</th>\n",
       "      <td>A002</td>\n",
       "      <td>R051</td>\n",
       "      <td>02-00-00</td>\n",
       "      <td>59 ST NQR456W</td>\n",
       "      <td>03/19/2019</td>\n",
       "      <td>6983646</td>\n",
       "      <td>03/18/2019</td>\n",
       "      <td>6982134.0</td>\n",
       "      <td>1512.0</td>\n",
       "      <td>A002 R051 02-00-00 59 ST NQR456W</td>\n",
       "      <td>1</td>\n",
       "    </tr>\n",
       "    <tr>\n",
       "      <th>4</th>\n",
       "      <td>A002</td>\n",
       "      <td>R051</td>\n",
       "      <td>02-00-00</td>\n",
       "      <td>59 ST NQR456W</td>\n",
       "      <td>03/20/2019</td>\n",
       "      <td>6985159</td>\n",
       "      <td>03/19/2019</td>\n",
       "      <td>6983646.0</td>\n",
       "      <td>1513.0</td>\n",
       "      <td>A002 R051 02-00-00 59 ST NQR456W</td>\n",
       "      <td>2</td>\n",
       "    </tr>\n",
       "    <tr>\n",
       "      <th>5</th>\n",
       "      <td>A002</td>\n",
       "      <td>R051</td>\n",
       "      <td>02-00-00</td>\n",
       "      <td>59 ST NQR456W</td>\n",
       "      <td>03/21/2019</td>\n",
       "      <td>6986742</td>\n",
       "      <td>03/20/2019</td>\n",
       "      <td>6985159.0</td>\n",
       "      <td>1583.0</td>\n",
       "      <td>A002 R051 02-00-00 59 ST NQR456W</td>\n",
       "      <td>3</td>\n",
       "    </tr>\n",
       "  </tbody>\n",
       "</table>\n",
       "</div>"
      ],
      "text/plain": [
       "    C/A  UNIT       SCP        STATION        DATE  ENTRIES   PREV_DATE  \\\n",
       "1  A002  R051  02-00-00  59 ST NQR456W  03/17/2019  6981564  03/16/2019   \n",
       "2  A002  R051  02-00-00  59 ST NQR456W  03/18/2019  6982134  03/17/2019   \n",
       "3  A002  R051  02-00-00  59 ST NQR456W  03/19/2019  6983646  03/18/2019   \n",
       "4  A002  R051  02-00-00  59 ST NQR456W  03/20/2019  6985159  03/19/2019   \n",
       "5  A002  R051  02-00-00  59 ST NQR456W  03/21/2019  6986742  03/20/2019   \n",
       "\n",
       "   PREV_ENTRIES  DAILY_ENTRIES                         TURNSTILE  WEEK_DAY  \n",
       "1     6980704.0          860.0  A002 R051 02-00-00 59 ST NQR456W         6  \n",
       "2     6981564.0          570.0  A002 R051 02-00-00 59 ST NQR456W         0  \n",
       "3     6982134.0         1512.0  A002 R051 02-00-00 59 ST NQR456W         1  \n",
       "4     6983646.0         1513.0  A002 R051 02-00-00 59 ST NQR456W         2  \n",
       "5     6985159.0         1583.0  A002 R051 02-00-00 59 ST NQR456W         3  "
      ]
     },
     "execution_count": 281,
     "metadata": {},
     "output_type": "execute_result"
    }
   ],
   "source": [
    "mta_daily['WEEK_DAY'] = pd.to_datetime(mta_daily['DATE']).dt.dayofweek\n",
    "\n",
    "mta_daily.head()"
   ]
  },
  {
   "cell_type": "markdown",
   "metadata": {},
   "source": [
    "Desired: a list of frames; each having daily entries for 1 week"
   ]
  },
  {
   "cell_type": "markdown",
   "metadata": {},
   "source": [
    "\"Make one list of counts for one week for one station. Monday's count, Tuesday's count, etc. so it's a list of 7 counts. Make the same list for another week, and another week, and another week.\""
   ]
  },
  {
   "cell_type": "markdown",
   "metadata": {},
   "source": [
    "## Making a function to get entries by week"
   ]
  },
  {
   "cell_type": "code",
   "execution_count": 282,
   "metadata": {
    "ExecuteTime": {
     "end_time": "2020-09-27T05:48:59.204528Z",
     "start_time": "2020-09-27T05:48:59.201286Z"
    }
   },
   "outputs": [],
   "source": [
    "def get_week_list(input_frame, column_name, num_days):\n",
    "    \"\"\"\n",
    "    Loops through dataframe and divides up desired column by increments of number of days (ex: 7 for a week)\n",
    "    \"\"\"\n",
    "    window = 1   # starts at 1 because first day 0 is in second row\n",
    "    week_list = []\n",
    "    while window < len(input_frame)-num_days:  \n",
    "        week_list.append(input_frame[column_name][window:window+num_days])  # do NOT double bracket daily entries. Will kill kernel\n",
    "        window+=num_days\n",
    "    return week_list"
   ]
  },
  {
   "cell_type": "code",
   "execution_count": 284,
   "metadata": {
    "ExecuteTime": {
     "end_time": "2020-09-27T05:49:08.030910Z",
     "start_time": "2020-09-27T05:49:08.001837Z"
    }
   },
   "outputs": [],
   "source": [
    "# Testing it\n",
    "\n",
    "input_frame = mta_daily[mta_daily['STATION'] == '1 AV L']\n",
    "column_name = 'DAILY_ENTRIES'\n",
    "num_days = 7\n",
    "\n",
    "# get_week_list(input_frame, column_name, num_days)"
   ]
  },
  {
   "cell_type": "code",
   "execution_count": 285,
   "metadata": {
    "ExecuteTime": {
     "end_time": "2020-09-27T05:49:10.403269Z",
     "start_time": "2020-09-27T05:49:10.393441Z"
    },
    "scrolled": true
   },
   "outputs": [
    {
     "data": {
      "text/plain": [
       "71644       0.0\n",
       "71645    2231.0\n",
       "71646    3264.0\n",
       "71647    3886.0\n",
       "71648    4154.0\n",
       "71649    4264.0\n",
       "71650    2184.0\n",
       "Name: DAILY_ENTRIES, dtype: float64"
      ]
     },
     "execution_count": 285,
     "metadata": {},
     "output_type": "execute_result"
    }
   ],
   "source": [
    "# viewing single entry\n",
    "\n",
    "get_week_list(input_frame, column_name, num_days)[0]"
   ]
  },
  {
   "cell_type": "markdown",
   "metadata": {},
   "source": [
    "## Plotting multiple weeks for one station"
   ]
  },
  {
   "cell_type": "code",
   "execution_count": 299,
   "metadata": {
    "ExecuteTime": {
     "end_time": "2020-09-27T06:25:00.994308Z",
     "start_time": "2020-09-27T06:25:00.854779Z"
    }
   },
   "outputs": [
    {
     "data": {
      "image/png": "[encoded data removed]",
      "text/plain": [
       "<Figure size 1080x360 with 1 Axes>"
      ]
     },
     "metadata": {
      "needs_background": "light"
     },
     "output_type": "display_data"
    }
   ],
   "source": [
    "x = np.arange(1,8) # weekdays from 1 to 7\n",
    "weeks = get_week_list(input_frame, column_name, num_days)\n",
    "\n",
    "plt.figure(figsize = (15, 5))\n",
    "plt.xlabel('Week day')\n",
    "plt.ylabel('Daily entries')\n",
    "plt.title('Weekday vs daily entries for \"1 AV L\" station',  size=15)\n",
    "for i in weeks[:5]:   # plotting 5 weeks for a single station\n",
    "    legend_text = []\n",
    "    plt.plot(x, i);\n",
    "# plt.legend()"
   ]
  },
  {
   "cell_type": "markdown",
   "metadata": {},
   "source": [
    "# Challenge 9"
   ]
  },
  {
   "cell_type": "markdown",
   "metadata": {},
   "source": [
    "## Viewing stations over entire time period"
   ]
  },
  {
   "cell_type": "code",
   "execution_count": 287,
   "metadata": {
    "ExecuteTime": {
     "end_time": "2020-09-27T05:49:14.208942Z",
     "start_time": "2020-09-27T05:49:14.201049Z"
    }
   },
   "outputs": [
    {
     "data": {
      "text/html": [
       "<div>\n",
       "<style scoped>\n",
       "    .dataframe tbody tr th:only-of-type {\n",
       "        vertical-align: middle;\n",
       "    }\n",
       "\n",
       "    .dataframe tbody tr th {\n",
       "        vertical-align: top;\n",
       "    }\n",
       "\n",
       "    .dataframe thead th {\n",
       "        text-align: right;\n",
       "    }\n",
       "</style>\n",
       "<table border=\"1\" class=\"dataframe\">\n",
       "  <thead>\n",
       "    <tr style=\"text-align: right;\">\n",
       "      <th></th>\n",
       "      <th>STATION</th>\n",
       "      <th>DATE</th>\n",
       "      <th>DAILY_ENTRIES</th>\n",
       "    </tr>\n",
       "  </thead>\n",
       "  <tbody>\n",
       "    <tr>\n",
       "      <th>0</th>\n",
       "      <td>1 AV L</td>\n",
       "      <td>03/17/2019</td>\n",
       "      <td>5.0</td>\n",
       "    </tr>\n",
       "    <tr>\n",
       "      <th>1</th>\n",
       "      <td>1 AV L</td>\n",
       "      <td>03/18/2019</td>\n",
       "      <td>2.0</td>\n",
       "    </tr>\n",
       "    <tr>\n",
       "      <th>2</th>\n",
       "      <td>1 AV L</td>\n",
       "      <td>03/19/2019</td>\n",
       "      <td>18473.0</td>\n",
       "    </tr>\n",
       "    <tr>\n",
       "      <th>3</th>\n",
       "      <td>1 AV L</td>\n",
       "      <td>03/20/2019</td>\n",
       "      <td>19996.0</td>\n",
       "    </tr>\n",
       "    <tr>\n",
       "      <th>4</th>\n",
       "      <td>1 AV L</td>\n",
       "      <td>03/21/2019</td>\n",
       "      <td>20027.0</td>\n",
       "    </tr>\n",
       "  </tbody>\n",
       "</table>\n",
       "</div>"
      ],
      "text/plain": [
       "  STATION        DATE  DAILY_ENTRIES\n",
       "0  1 AV L  03/17/2019            5.0\n",
       "1  1 AV L  03/18/2019            2.0\n",
       "2  1 AV L  03/19/2019        18473.0\n",
       "3  1 AV L  03/20/2019        19996.0\n",
       "4  1 AV L  03/21/2019        20027.0"
      ]
     },
     "execution_count": 287,
     "metadata": {},
     "output_type": "execute_result"
    }
   ],
   "source": [
    "stations_daily.head()"
   ]
  },
  {
   "cell_type": "code",
   "execution_count": 288,
   "metadata": {
    "ExecuteTime": {
     "end_time": "2020-09-27T05:49:14.877388Z",
     "start_time": "2020-09-27T05:49:14.865263Z"
    }
   },
   "outputs": [],
   "source": [
    "grp_station_for_entire_time = stations_daily.groupby('STATION').sum().sort_values(by='DAILY_ENTRIES', ascending=False)\n",
    "\n",
    "# Alternative method, returns a series:\n",
    "\n",
    "# by_station = mta_daily.groupby(['STATION'])['DAILY_ENTRIES'].sum().sort_values(ascending=False)"
   ]
  },
  {
   "cell_type": "markdown",
   "metadata": {},
   "source": [
    "## 10 busiest stations overall:"
   ]
  },
  {
   "cell_type": "code",
   "execution_count": 289,
   "metadata": {
    "ExecuteTime": {
     "end_time": "2020-09-27T05:49:15.944502Z",
     "start_time": "2020-09-27T05:49:15.937343Z"
    }
   },
   "outputs": [
    {
     "data": {
      "text/html": [
       "<div>\n",
       "<style scoped>\n",
       "    .dataframe tbody tr th:only-of-type {\n",
       "        vertical-align: middle;\n",
       "    }\n",
       "\n",
       "    .dataframe tbody tr th {\n",
       "        vertical-align: top;\n",
       "    }\n",
       "\n",
       "    .dataframe thead th {\n",
       "        text-align: right;\n",
       "    }\n",
       "</style>\n",
       "<table border=\"1\" class=\"dataframe\">\n",
       "  <thead>\n",
       "    <tr style=\"text-align: right;\">\n",
       "      <th></th>\n",
       "      <th>DAILY_ENTRIES</th>\n",
       "    </tr>\n",
       "    <tr>\n",
       "      <th>STATION</th>\n",
       "      <th></th>\n",
       "    </tr>\n",
       "  </thead>\n",
       "  <tbody>\n",
       "    <tr>\n",
       "      <th>GRD CNTRL-42 ST 4567S</th>\n",
       "      <td>12553006.0</td>\n",
       "    </tr>\n",
       "    <tr>\n",
       "      <th>34 ST-HERALD SQ BDFMNQRW</th>\n",
       "      <td>10724485.0</td>\n",
       "    </tr>\n",
       "    <tr>\n",
       "      <th>42 ST-PORT AUTH ACENQRS1237W</th>\n",
       "      <td>7836685.0</td>\n",
       "    </tr>\n",
       "    <tr>\n",
       "      <th>34 ST-PENN STA ACE</th>\n",
       "      <td>7068245.0</td>\n",
       "    </tr>\n",
       "    <tr>\n",
       "      <th>14 ST-UNION SQ LNQR456W</th>\n",
       "      <td>6136401.0</td>\n",
       "    </tr>\n",
       "    <tr>\n",
       "      <th>TIMES SQ-42 ST 1237ACENQRSW</th>\n",
       "      <td>5988692.0</td>\n",
       "    </tr>\n",
       "    <tr>\n",
       "      <th>59 ST COLUMBUS ABCD1</th>\n",
       "      <td>5093300.0</td>\n",
       "    </tr>\n",
       "    <tr>\n",
       "      <th>FULTON ST 2345ACJZ</th>\n",
       "      <td>5064785.0</td>\n",
       "    </tr>\n",
       "    <tr>\n",
       "      <th>47-50 STS ROCK BDFM</th>\n",
       "      <td>4892421.0</td>\n",
       "    </tr>\n",
       "    <tr>\n",
       "      <th>PATH NEW WTC 1</th>\n",
       "      <td>4769867.0</td>\n",
       "    </tr>\n",
       "  </tbody>\n",
       "</table>\n",
       "</div>"
      ],
      "text/plain": [
       "                              DAILY_ENTRIES\n",
       "STATION                                    \n",
       "GRD CNTRL-42 ST 4567S            12553006.0\n",
       "34 ST-HERALD SQ BDFMNQRW         10724485.0\n",
       "42 ST-PORT AUTH ACENQRS1237W      7836685.0\n",
       "34 ST-PENN STA ACE                7068245.0\n",
       "14 ST-UNION SQ LNQR456W           6136401.0\n",
       "TIMES SQ-42 ST 1237ACENQRSW       5988692.0\n",
       "59 ST COLUMBUS ABCD1              5093300.0\n",
       "FULTON ST 2345ACJZ                5064785.0\n",
       "47-50 STS ROCK BDFM               4892421.0\n",
       "PATH NEW WTC 1                    4769867.0"
      ]
     },
     "execution_count": 289,
     "metadata": {},
     "output_type": "execute_result"
    }
   ],
   "source": [
    "grp_station_for_entire_time.head(10)"
   ]
  },
  {
   "cell_type": "markdown",
   "metadata": {},
   "source": [
    "# Challenge 10"
   ]
  },
  {
   "cell_type": "markdown",
   "metadata": {},
   "source": [
    "## Visualizing the distribution of ridership levels: what levels of ridership are most common among stations?"
   ]
  },
  {
   "cell_type": "code",
   "execution_count": 301,
   "metadata": {
    "ExecuteTime": {
     "end_time": "2020-09-27T06:25:22.918951Z",
     "start_time": "2020-09-27T06:25:22.775739Z"
    },
    "scrolled": false
   },
   "outputs": [
    {
     "data": {
      "image/png": "[encoded data removed]",
      "text/plain": [
       "<Figure size 432x288 with 1 Axes>"
      ]
     },
     "metadata": {
      "needs_background": "light"
     },
     "output_type": "display_data"
    }
   ],
   "source": [
    "plt.hist(grp_station_for_entire_time)\n",
    "plt.xlabel(\"Ridership\")\n",
    "plt.ylabel(\"Frequency\")\n",
    "plt.title(\"Frequency distribution of ridership among stations\", size=15);"
   ]
  },
  {
   "cell_type": "markdown",
   "metadata": {},
   "source": [
    "Takeaway: the vast majority of stations, about 350, have low ridership -- between 0 and 2M. The top two stations, Grand Central and 34th St Herald Sq, have over 10M."
   ]
  },
  {
   "cell_type": "markdown",
   "metadata": {},
   "source": [
    "## Which stations take up most of the traffic?"
   ]
  },
  {
   "cell_type": "code",
   "execution_count": 302,
   "metadata": {
    "ExecuteTime": {
     "end_time": "2020-09-27T06:25:33.303775Z",
     "start_time": "2020-09-27T06:25:32.719145Z"
    }
   },
   "outputs": [
    {
     "data": {
      "image/png": "[encoded data removed]",
      "text/plain": [
       "<Figure size 432x288 with 1 Axes>"
      ]
     },
     "metadata": {
      "needs_background": "light"
     },
     "output_type": "display_data"
    }
   ],
   "source": [
    "indices = range(len(grp_station_for_entire_time))\n",
    "plt.bar(indices, grp_station_for_entire_time['DAILY_ENTRIES'])\n",
    "plt.xlabel(\"Ridership\")\n",
    "plt.ylabel(\"Frequency\")\n",
    "plt.title(\"Share of traffic by station\",  size=15);"
   ]
  },
  {
   "cell_type": "markdown",
   "metadata": {},
   "source": [
    "Takeaway: the top two stations, Grand Central and 34th St Herald Sq, have massive ridership which then drops off sharply."
   ]
  },
  {
   "cell_type": "code",
   "execution_count": null,
   "metadata": {},
   "outputs": [],
   "source": []
  }
 ],
 "metadata": {
  "kernelspec": {
   "display_name": "Python [conda env:metis] *",
   "language": "python",
   "name": "conda-env-metis-py"
  },
  "language_info": {
   "codemirror_mode": {
    "name": "ipython",
    "version": 3
   },
   "file_extension": ".py",
   "mimetype": "text/x-python",
   "name": "python",
   "nbconvert_exporter": "python",
   "pygments_lexer": "ipython3",
   "version": "3.8.5"
  },
  "toc": {
   "base_numbering": 1,
   "nav_menu": {},
   "number_sections": true,
   "sideBar": true,
   "skip_h1_title": false,
   "title_cell": "Table of Contents",
   "title_sidebar": "Contents",
   "toc_cell": false,
   "toc_position": {},
   "toc_section_display": true,
   "toc_window_display": true
  }
 },
 "nbformat": 4,
 "nbformat_minor": 4
}
